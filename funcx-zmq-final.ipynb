{
 "cells": [
  {
   "cell_type": "code",
   "execution_count": 1,
   "metadata": {},
   "outputs": [],
   "source": [
    "from funcx.sdk.client import FuncXClient"
   ]
  },
  {
   "cell_type": "code",
   "execution_count": 2,
   "metadata": {},
   "outputs": [],
   "source": [
    "fxc = FuncXClient()"
   ]
  },
  {
   "cell_type": "markdown",
   "metadata": {},
   "source": [
    "you need two endpoints for this one."
   ]
  },
  {
   "cell_type": "code",
   "execution_count": 86,
   "metadata": {},
   "outputs": [],
   "source": [
    "epjb = 'a7c14a88-xxxx-41ae-963f-7b419e29e6dd' #jetbot\n",
    "ep = '21096a36-xxxx-4b61-8f8c-4b7b1e61c22f' #k8s pc'\n"
   ]
  },
  {
   "cell_type": "code",
   "execution_count": 5,
   "metadata": {},
   "outputs": [],
   "source": [
    "import time"
   ]
  },
  {
   "cell_type": "markdown",
   "metadata": {},
   "source": [
    "### Pub-Sub Routing\n",
    "This demo shows how four funcx instances an communicate streams through a zmq pub-sub routing filter.   The routing filter is a simple program that runs on a server with a \"public\" IP.  In this case it is a small jetson device and the access is via the local area network.  We have two listeners.  One listener subscribes to messages on channel 5 and the other on channel 3.   We have two \"sender\" functions that send a stream of messages to the router.  One \"Sally\" runs on a small server and the other \"fred\" is invoked from this notebook.   The only difference is that Sally sends a message every 0.2 seconds and Fred sends messages twice as often.   Both alternate messages between channels 3 and 5.  \n"
   ]
  },
  {
   "attachments": {
    "image.png": {
     "image/png": "[encoded data removed]"
    }
   },
   "cell_type": "markdown",
   "metadata": {},
   "source": [
    "![image.png](attachment:image.png)"
   ]
  },
  {
   "cell_type": "raw",
   "metadata": {},
   "source": [
    "The Router Device is a very simple zmq \"device\" that is persistant.\n",
    "# https://learning-0mq-with-pyzmq.readthedocs.io/en/latest/pyzmq/devices/forwarder.html\n",
    "import zmq\n",
    "\n",
    "def main():\n",
    "\n",
    "    try:\n",
    "        context = zmq.Context(1)\n",
    "        # Socket facing clients\n",
    "        frontend = context.socket(zmq.SUB)\n",
    "        frontend.bind(\"tcp://*:5559\")\n",
    "        \n",
    "        frontend.setsockopt(zmq.SUBSCRIBE, \"\")\n",
    "        \n",
    "        # Socket facing services\n",
    "        backend = context.socket(zmq.PUB)\n",
    "        backend.bind(\"tcp://*:5560\")\n",
    "\n",
    "        zmq.device(zmq.FORWARDER, frontend, backend)\n",
    "    except Exception, e:\n",
    "        print e\n",
    "        print \"bringing down zmq device\"\n",
    "    finally:\n",
    "        pass\n",
    "        frontend.close()\n",
    "        backend.close()\n",
    "        context.term()\n",
    "\n",
    "if __name__ == \"__main__\":\n",
    "    main()\n",
    "    "
   ]
  },
  {
   "cell_type": "code",
   "execution_count": 49,
   "metadata": {},
   "outputs": [],
   "source": [
    "## the listener function has a simple structure.\n",
    "# it subscribes to the router device on a specific topic and\n",
    "# then it waits for messages.   For termination it eiter waits for 1000 messages \n",
    "# or for a 'Stop' message.   \n",
    "\n",
    "\n",
    "def zmq_listener(topic):\n",
    "    import sys\n",
    "    import zmq\n",
    "\n",
    "    port = \"5560\"\n",
    "    # Socket to talk to server\n",
    "    context = zmq.Context()\n",
    "    socket = context.socket(zmq.SUB)\n",
    "    \n",
    "    socket.connect (\"tcp://10.0.0.6:%s\" % port)\n",
    "    topicfilter = topic\n",
    "    socket.setsockopt(zmq.SUBSCRIBE, topicfilter)\n",
    "    items = []\n",
    "    for update_nbr in range(1000):\n",
    "        string = socket.recv()\n",
    "        topic, messagedata = string.split()\n",
    "        if messagedata == b'Stop':\n",
    "            items.append('found stop')\n",
    "            break\n",
    "        items.append(( topic, messagedata))\n",
    "    return items\n"
   ]
  },
  {
   "cell_type": "code",
   "execution_count": 50,
   "metadata": {},
   "outputs": [],
   "source": [
    "listener = fxc.register_function(zmq_listener)"
   ]
  },
  {
   "cell_type": "markdown",
   "metadata": {},
   "source": [
    "### launch the listeners"
   ]
  },
  {
   "cell_type": "code",
   "execution_count": 78,
   "metadata": {},
   "outputs": [],
   "source": [
    "listener_res = fxc.run(b'5', endpoint_id=ep, function_id=listener)\n",
    "listener_res2 = fxc.run(b'3', endpoint_id=ep, function_id=listener)"
   ]
  },
  {
   "cell_type": "markdown",
   "metadata": {},
   "source": [
    "#### Senders\n",
    "There are two senders.   both send messages alternating on channel 3 and 5.   One sender just sends 22 messages and then a stop signal on each channel.   \n",
    "\n",
    "The other is a stream of 200 messages at half the speed of the first."
   ]
  },
  {
   "cell_type": "code",
   "execution_count": 79,
   "metadata": {},
   "outputs": [],
   "source": [
    "def zmq_sender():\n",
    "    import zmq\n",
    "    import random\n",
    "    import sys\n",
    "    import time\n",
    "\n",
    "    port = \"5559\"\n",
    "    context = zmq.Context()\n",
    "    socket = context.socket(zmq.PUB)\n",
    "    socket.connect(\"tcp://10.0.0.6:%s\" % port)\n",
    "    publisher_id = 'fred'\n",
    "    topic = '5'\n",
    "    for i in range(22):\n",
    "        if topic == '5':\n",
    "            topic = '3'\n",
    "        else:\n",
    "            topic = '5'\n",
    "        messagedata = \"server#%s\" % publisher_id+str(i)\n",
    "        print (\"%s %s\" % (topic, messagedata))\n",
    "        socket.send_string(\"%s %s\" % (topic, messagedata))\n",
    "        time.sleep(.1)\n",
    "    socket.send_string(\"%s %s\" % ('3',\"Stop\"))\n",
    "    socket.send_string(\"%s %s\" % ('5',\"Stop\"))\n",
    "\n",
    "def zmq_sender2():\n",
    "    import zmq\n",
    "    import random\n",
    "    import sys\n",
    "    import time\n",
    "\n",
    "    port = \"5559\"\n",
    "    context = zmq.Context()\n",
    "    socket = context.socket(zmq.PUB)\n",
    "    socket.connect(\"tcp://10.0.0.6:%s\" % port)\n",
    "    publisher_id = 'Sally'\n",
    "    topic = '5'\n",
    "    for i in range(200):\n",
    "        if topic == '5':\n",
    "            topic = '3'\n",
    "        else:\n",
    "            topic = '5'\n",
    "        messagedata = \"server#%s\" % publisher_id+str(i)\n",
    "        print (\"%s %s\" % (topic, messagedata))\n",
    "        socket.send_string(\"%s %s\" % (topic, messagedata))\n",
    "        time.sleep(.2)\n"
   ]
  },
  {
   "cell_type": "markdown",
   "metadata": {},
   "source": [
    "#### launch sender2 remotely"
   ]
  },
  {
   "cell_type": "code",
   "execution_count": 80,
   "metadata": {},
   "outputs": [],
   "source": [
    "sender2 = fxc.register_function(zmq_sender2)"
   ]
  },
  {
   "cell_type": "code",
   "execution_count": 81,
   "metadata": {},
   "outputs": [],
   "source": [
    "sender2_res = fxc.run(endpoint_id=epjb, function_id=sender2)\n"
   ]
  },
  {
   "cell_type": "code",
   "execution_count": 82,
   "metadata": {},
   "outputs": [
    {
     "data": {
      "text/plain": [
       "{'pending': True, 'status': 'waiting-for-ep'}"
      ]
     },
     "execution_count": 82,
     "metadata": {},
     "output_type": "execute_result"
    }
   ],
   "source": [
    "fxc.get_task(sender2_res)"
   ]
  },
  {
   "cell_type": "markdown",
   "metadata": {},
   "source": [
    "### launch sender from the command line in the  notebook"
   ]
  },
  {
   "cell_type": "code",
   "execution_count": 83,
   "metadata": {},
   "outputs": [
    {
     "name": "stdout",
     "output_type": "stream",
     "text": [
      "3 server#fred0\n",
      "5 server#fred1\n",
      "3 server#fred2\n",
      "5 server#fred3\n",
      "3 server#fred4\n",
      "5 server#fred5\n",
      "3 server#fred6\n",
      "5 server#fred7\n",
      "3 server#fred8\n",
      "5 server#fred9\n",
      "3 server#fred10\n",
      "5 server#fred11\n",
      "3 server#fred12\n",
      "5 server#fred13\n",
      "3 server#fred14\n",
      "5 server#fred15\n",
      "3 server#fred16\n",
      "5 server#fred17\n",
      "3 server#fred18\n",
      "5 server#fred19\n",
      "3 server#fred20\n",
      "5 server#fred21\n"
     ]
    }
   ],
   "source": [
    "zmq_sender()"
   ]
  },
  {
   "cell_type": "markdown",
   "metadata": {},
   "source": [
    "### observe\n",
    "when the first sender terminates that kills the two listeners.  notice that they each started to  pick up 'sally' messages at first until 'fred' came in and then it was 2 freds for each sally.\n"
   ]
  },
  {
   "cell_type": "code",
   "execution_count": 84,
   "metadata": {},
   "outputs": [
    {
     "data": {
      "text/plain": [
       "{'pending': False,\n",
       " 'status': 'success',\n",
       " 'result': [(b'5', b'server#Sally1'),\n",
       "  (b'5', b'server#Sally3'),\n",
       "  (b'5', b'server#Sally5'),\n",
       "  (b'5', b'server#fred1'),\n",
       "  (b'5', b'server#Sally7'),\n",
       "  (b'5', b'server#fred3'),\n",
       "  (b'5', b'server#Sally9'),\n",
       "  (b'5', b'server#fred5'),\n",
       "  (b'5', b'server#fred7'),\n",
       "  (b'5', b'server#Sally11'),\n",
       "  (b'5', b'server#fred9'),\n",
       "  (b'5', b'server#fred11'),\n",
       "  (b'5', b'server#Sally13'),\n",
       "  (b'5', b'server#fred13'),\n",
       "  (b'5', b'server#fred15'),\n",
       "  (b'5', b'server#Sally15'),\n",
       "  (b'5', b'server#fred17'),\n",
       "  (b'5', b'server#fred19'),\n",
       "  (b'5', b'server#Sally17'),\n",
       "  (b'5', b'server#fred21'),\n",
       "  'found stop'],\n",
       " 'completion_t': '1608664549.0693378'}"
      ]
     },
     "execution_count": 84,
     "metadata": {},
     "output_type": "execute_result"
    }
   ],
   "source": [
    "fxc.get_task(listener_res)"
   ]
  },
  {
   "cell_type": "code",
   "execution_count": 85,
   "metadata": {},
   "outputs": [
    {
     "data": {
      "text/plain": [
       "{'pending': False,\n",
       " 'status': 'success',\n",
       " 'result': [(b'3', b'server#Sally2'),\n",
       "  (b'3', b'server#Sally4'),\n",
       "  (b'3', b'server#Sally6'),\n",
       "  (b'3', b'server#fred2'),\n",
       "  (b'3', b'server#Sally8'),\n",
       "  (b'3', b'server#fred4'),\n",
       "  (b'3', b'server#fred6'),\n",
       "  (b'3', b'server#Sally10'),\n",
       "  (b'3', b'server#fred8'),\n",
       "  (b'3', b'server#fred10'),\n",
       "  (b'3', b'server#Sally12'),\n",
       "  (b'3', b'server#fred12'),\n",
       "  (b'3', b'server#fred14'),\n",
       "  (b'3', b'server#Sally14'),\n",
       "  (b'3', b'server#fred16'),\n",
       "  (b'3', b'server#fred18'),\n",
       "  (b'3', b'server#Sally16'),\n",
       "  (b'3', b'server#fred20'),\n",
       "  'found stop'],\n",
       " 'completion_t': '1608664549.0720673'}"
      ]
     },
     "execution_count": 85,
     "metadata": {},
     "output_type": "execute_result"
    }
   ],
   "source": [
    "fxc.get_task(listener_res2)"
   ]
  },
  {
   "cell_type": "code",
   "execution_count": null,
   "metadata": {},
   "outputs": [],
   "source": []
  },
  {
   "cell_type": "code",
   "execution_count": null,
   "metadata": {},
   "outputs": [],
   "source": []
  },
  {
   "cell_type": "code",
   "execution_count": null,
   "metadata": {},
   "outputs": [],
   "source": []
  }
 ],
 "metadata": {
  "kernelspec": {
   "display_name": "Python 3",
   "language": "python",
   "name": "python3"
  },
  "language_info": {
   "codemirror_mode": {
    "name": "ipython",
    "version": 3
   },
   "file_extension": ".py",
   "mimetype": "text/x-python",
   "name": "python",
   "nbconvert_exporter": "python",
   "pygments_lexer": "ipython3",
   "version": "3.8.5"
  }
 },
 "nbformat": 4,
 "nbformat_minor": 4
}
