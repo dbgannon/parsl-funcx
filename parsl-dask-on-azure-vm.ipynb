{
 "cells": [
  {
   "cell_type": "markdown",
   "metadata": {},
   "source": [
    "## Comparing Parsl to Dask on a simple multicore system\n",
    "This notebook compares Parsl and Dask on a trivial bag-of-task problem running on a ubuntu \"data science\" VM running on Azure.   the VM has 4 real cores (capable of 8 fully concurrent threads.)\n",
    "\n",
    "The basic test is to compute pi 100 times using 1, 2, 4, 5, 10 and 100 concurrent tasks.  \n"
   ]
  },
  {
   "cell_type": "code",
   "execution_count": 2,
   "metadata": {},
   "outputs": [],
   "source": [
    "#!pip install parsl"
   ]
  },
  {
   "cell_type": "code",
   "execution_count": 5,
   "metadata": {},
   "outputs": [],
   "source": [
    "#!pip install \"dask[bag]\" --upgrade"
   ]
  },
  {
   "cell_type": "code",
   "execution_count": 1,
   "metadata": {},
   "outputs": [],
   "source": [
    "import dask\n",
    "import dask.bag as db"
   ]
  },
  {
   "cell_type": "code",
   "execution_count": 7,
   "metadata": {},
   "outputs": [],
   "source": [
    "def do_pi(numpoints):\n",
    "    from random import random\n",
    "    inside = 0\n",
    "    for i in range(numpoints):\n",
    "        x, y = random(), random()  # Drop a random point in the box.\n",
    "        if x**2 + y**2 < 1:        # Count points within the circle.\n",
    "            inside += 1\n",
    "    pi = inside*4 / numpoints\n",
    "    return pi\n"
   ]
  },
  {
   "cell_type": "markdown",
   "metadata": {},
   "source": [
    "compute pi with 10\\*\\*8 interation which is about the same work as 100 iterations of 10**6."
   ]
  },
  {
   "cell_type": "code",
   "execution_count": 8,
   "metadata": {},
   "outputs": [
    {
     "name": "stdout",
     "output_type": "stream",
     "text": [
      "pi = 3.14137008\n",
      "32.69071936607361\n"
     ]
    }
   ],
   "source": [
    "import time\n",
    "t0 = time.time()\n",
    "x = do_pi((10**6)*100)\n",
    "print(\"pi =\", x)\n",
    "t1 =time.time()\n",
    "print(t1-t0)"
   ]
  },
  {
   "cell_type": "markdown",
   "metadata": {},
   "source": [
    "the function do_dask uses dask bags to express the concurrency.   we start with a list of 100 copies of the  value 10\\*\\*6.  next create a bag from this list and partition this bag into \"nparts\" partitions.  We use a lambda expression to map the elements of the bag to the do_pi function and then compute the mean of the values. "
   ]
  },
  {
   "cell_type": "code",
   "execution_count": 4,
   "metadata": {},
   "outputs": [],
   "source": [
    "import time"
   ]
  },
  {
   "cell_type": "code",
   "execution_count": 10,
   "metadata": {},
   "outputs": [],
   "source": [
    "def do_dask(nparts):\n",
    "    seq = [10**6 for i in range(100)]\n",
    "    bagseq = db.from_sequence(seq, npartitions = nparts)\n",
    "    t0 = time.time()\n",
    "    c = bagseq.map(lambda x: do_pi(x)).mean()\n",
    "    x =c.compute()\n",
    "    t1 =time.time()\n",
    "    print(\"time =\", t1-t0)\n",
    "    return t1-t0"
   ]
  },
  {
   "cell_type": "markdown",
   "metadata": {},
   "source": [
    "We now run do task for different partition sizes.   if the partition size is x then there will be x threads assigned to the computation."
   ]
  },
  {
   "cell_type": "code",
   "execution_count": 13,
   "metadata": {},
   "outputs": [
    {
     "name": "stdout",
     "output_type": "stream",
     "text": [
      "time = 31.953450918197632\n",
      "time = 16.490635633468628\n",
      "time = 9.886584043502808\n",
      "time = 10.630859375\n",
      "time = 10.773289203643799\n",
      "time = 9.673658847808838\n",
      "time = 9.615858793258667\n"
     ]
    }
   ],
   "source": [
    "blocklist = [1, 2, 4, 5, 10, 20, 100]\n",
    "dask_vals = []\n",
    "for i in blocklist:\n",
    "    dask_vals.append(do_dask(i))"
   ]
  },
  {
   "cell_type": "code",
   "execution_count": 29,
   "metadata": {},
   "outputs": [],
   "source": [
    "#!pip install \"dask[distributed]\" --upgrade"
   ]
  },
  {
   "cell_type": "markdown",
   "metadata": {},
   "source": [
    "Dask also has a distributed package.   this will set up a cluster as snown below."
   ]
  },
  {
   "cell_type": "code",
   "execution_count": 15,
   "metadata": {},
   "outputs": [],
   "source": [
    "from dask.distributed import Client, progress, fire_and_forget"
   ]
  },
  {
   "cell_type": "code",
   "execution_count": 16,
   "metadata": {},
   "outputs": [
    {
     "data": {
      "text/html": [
       "<table style=\"border: 2px solid white;\">\n",
       "<tr>\n",
       "<td style=\"vertical-align: top; border: 0px solid white\">\n",
       "<h3 style=\"text-align: left;\">Client</h3>\n",
       "<ul style=\"text-align: left; list-style: none; margin: 0; padding: 0;\">\n",
       "  <li><b>Scheduler: </b>tcp://127.0.0.1:42849</li>\n",
       "  <li><b>Dashboard: </b><a href='http://127.0.0.1:8787/status' target='_blank'>http://127.0.0.1:8787/status</a></li>\n",
       "</ul>\n",
       "</td>\n",
       "<td style=\"vertical-align: top; border: 0px solid white\">\n",
       "<h3 style=\"text-align: left;\">Cluster</h3>\n",
       "<ul style=\"text-align: left; list-style:none; margin: 0; padding: 0;\">\n",
       "  <li><b>Workers: </b>4</li>\n",
       "  <li><b>Cores: </b>8</li>\n",
       "  <li><b>Memory: </b>33.68 GB</li>\n",
       "</ul>\n",
       "</td>\n",
       "</tr>\n",
       "</table>"
      ],
      "text/plain": [
       "<Client: 'tcp://127.0.0.1:42849' processes=4 threads=8, memory=33.68 GB>"
      ]
     },
     "execution_count": 16,
     "metadata": {},
     "output_type": "execute_result"
    }
   ],
   "source": [
    "cl = Client()\n",
    "cl"
   ]
  },
  {
   "cell_type": "markdown",
   "metadata": {},
   "source": [
    "now if we partition our bag into 4 sets which is the same size as our cluster we can do the computation as follows.  the result is about the same as we saw above."
   ]
  },
  {
   "cell_type": "code",
   "execution_count": 19,
   "metadata": {},
   "outputs": [
    {
     "name": "stdout",
     "output_type": "stream",
     "text": [
      "3.14157128\n",
      "10.221813678741455\n"
     ]
    }
   ],
   "source": [
    "seq = [10**6 for i in range(100)]\n",
    "bagseq = db.from_sequence(seq, npartitions = 4)\n",
    "t0 = time.time()\n",
    "x = cl.compute(bagseq.map(lambda x: do_pi(x)).mean())\n",
    "while x.status != 'finished':\n",
    "    time.sleep(.3)\n",
    "#x =cl.compute(bs)\n",
    "t1 = time.time()\n",
    "print(x.result())\n",
    "print(t1-t0)"
   ]
  },
  {
   "cell_type": "markdown",
   "metadata": {},
   "source": [
    "## Parsl\n",
    "For parsl we will use a local high throughput executor as configured below.   NOTE: this does not work on Windows10, but it is fine on our Azure ubuntu data science VM"
   ]
  },
  {
   "cell_type": "code",
   "execution_count": 14,
   "metadata": {},
   "outputs": [],
   "source": [
    "from parsl import python_app\n",
    "import parsl"
   ]
  },
  {
   "cell_type": "code",
   "execution_count": 15,
   "metadata": {},
   "outputs": [],
   "source": [
    "from parsl.providers import LocalProvider\n",
    "from parsl.channels import LocalChannel\n",
    "from parsl.config import Config\n",
    "from parsl.executors import HighThroughputExecutor\n",
    "\n",
    "local_htex = Config(\n",
    "    executors=[\n",
    "        HighThroughputExecutor(\n",
    "            label=\"htex_Local\",\n",
    "            worker_debug=True,\n",
    "            cores_per_worker=1,\n",
    "            provider=LocalProvider(\n",
    "                channel=LocalChannel(),\n",
    "                init_blocks=1,\n",
    "                max_blocks=1,\n",
    "            ),\n",
    "        )\n",
    "    ],\n",
    "    strategy=None,\n",
    ")"
   ]
  },
  {
   "cell_type": "code",
   "execution_count": 16,
   "metadata": {},
   "outputs": [
    {
     "data": {
      "text/plain": [
       "<parsl.dataflow.dflow.DataFlowKernel at 0x7f72510b5250>"
      ]
     },
     "execution_count": 16,
     "metadata": {},
     "output_type": "execute_result"
    }
   ],
   "source": [
    "parsl.clear()\n",
    "\n",
    "parsl.load(local_htex)\n"
   ]
  },
  {
   "cell_type": "code",
   "execution_count": 17,
   "metadata": {},
   "outputs": [],
   "source": [
    "@python_app\n",
    "def pi(numpoints):\n",
    "    from random import random\n",
    "    inside = 0\n",
    "    for i in range(numpoints):\n",
    "        x, y = random(), random()  # Drop a random point in the box.\n",
    "        if x**2 + y**2 < 1:        # Count points within the circle.\n",
    "            inside += 1\n",
    "    pi = inside*4 / numpoints\n",
    "    return pi\n"
   ]
  },
  {
   "cell_type": "markdown",
   "metadata": {},
   "source": [
    "The following do_parsl function mirrors the do_dask function.    It divides the 100 tasks into chuncks of size blocks and repeats them 100/blocks times.   so if blocks == 1 then it is a sequential execution and if blocks == 100 the we fire off 100 pi funcitions and wait until they are all done."
   ]
  },
  {
   "cell_type": "code",
   "execution_count": 18,
   "metadata": {},
   "outputs": [],
   "source": [
    "def do_parsl(blocks):\n",
    "    t1 = time.time()\n",
    "    vals =  0\n",
    "    for j in range(int(100/blocks)):\n",
    "        clist = []\n",
    "        for i in range(blocks):\n",
    "            clist.append(pi(10**6))\n",
    "        for i in range(blocks):\n",
    "            vals += clist[i].result()\n",
    "    t2 = time.time()\n",
    "    print('total time=', t2-t1 ) \n",
    "    return t2-t1\n"
   ]
  },
  {
   "cell_type": "code",
   "execution_count": 19,
   "metadata": {},
   "outputs": [
    {
     "name": "stdout",
     "output_type": "stream",
     "text": [
      "total time= 36.0709707736969\n",
      "total time= 18.033435106277466\n",
      "total time= 12.502439737319946\n",
      "total time= 10.998192071914673\n",
      "total time= 15.645912647247314\n",
      "total time= 15.29013180732727\n",
      "total time= 15.73734736442566\n"
     ]
    }
   ],
   "source": [
    "blocklist = [1, 2, 4, 5, 10, 20, 100]\n",
    "parsl_vals = []\n",
    "for i in blocklist:\n",
    "    parsl_vals.append(do_parsl(i))"
   ]
  },
  {
   "cell_type": "code",
   "execution_count": 20,
   "metadata": {},
   "outputs": [
    {
     "data": {
      "text/plain": [
       "[36.0709707736969,\n",
       " 18.033435106277466,\n",
       " 12.502439737319946,\n",
       " 10.998192071914673,\n",
       " 15.645912647247314,\n",
       " 15.29013180732727,\n",
       " 15.73734736442566]"
      ]
     },
     "execution_count": 20,
     "metadata": {},
     "output_type": "execute_result"
    }
   ],
   "source": [
    "parsl_vals"
   ]
  },
  {
   "cell_type": "code",
   "execution_count": 22,
   "metadata": {},
   "outputs": [
    {
     "name": "stderr",
     "output_type": "stream",
     "text": [
      "Matplotlib is building the font cache; this may take a moment.\n"
     ]
    }
   ],
   "source": [
    "import matplotlib.pyplot as mp"
   ]
  },
  {
   "cell_type": "code",
   "execution_count": 26,
   "metadata": {},
   "outputs": [],
   "source": [
    "x = [1,2,3,4,5,6,7]"
   ]
  },
  {
   "cell_type": "code",
   "execution_count": 28,
   "metadata": {},
   "outputs": [
    {
     "data": {
      "text/plain": [
       "[<matplotlib.lines.Line2D at 0x7f7221e013d0>]"
      ]
     },
     "execution_count": 28,
     "metadata": {},
     "output_type": "execute_result"
    },
    {
     "data": {
      "image/png": "[encoded data removed]",
      "text/plain": [
       "<Figure size 432x288 with 1 Axes>"
      ]
     },
     "metadata": {
      "needs_background": "light"
     },
     "output_type": "display_data"
    }
   ],
   "source": [
    "mp.plot(x, parsl_vals)\n",
    "mp.plot(x, dask_vals)"
   ]
  },
  {
   "cell_type": "code",
   "execution_count": 26,
   "metadata": {},
   "outputs": [
    {
     "data": {
      "text/plain": [
       "<parsl.dataflow.dflow.DataFlowKernel at 0x7f8a3eed6050>"
      ]
     },
     "execution_count": 26,
     "metadata": {},
     "output_type": "execute_result"
    }
   ],
   "source": [
    "\n",
    "parsl.clear()\n",
    "#parsl.load(local_threads)\n",
    "#parsl.load(local_htex)\n",
    "parsl.load()"
   ]
  },
  {
   "cell_type": "markdown",
   "metadata": {},
   "source": [
    "note: if you use the default parsl configuration there is no parallelism seen."
   ]
  },
  {
   "cell_type": "code",
   "execution_count": 27,
   "metadata": {},
   "outputs": [
    {
     "name": "stdout",
     "output_type": "stream",
     "text": [
      "3.14162016\n",
      "total time= 34.820037841796875\n",
      "3.14131476\n",
      "total time= 34.940215826034546\n",
      "3.14147316\n",
      "total time= 34.60612726211548\n",
      "3.141513920000001\n",
      "total time= 34.51739716529846\n",
      "3.14124044\n",
      "total time= 34.62702178955078\n",
      "3.1416826800000006\n",
      "total time= 35.31731939315796\n",
      "3.14163308\n",
      "total time= 34.94237017631531\n"
     ]
    }
   ],
   "source": [
    "blocklist = [1, 2, 4, 5, 10, 20, 100]\n",
    "parsl_vals = []\n",
    "for i in blocklist:\n",
    "    parsl_vals.append(do_parsl(i))"
   ]
  },
  {
   "cell_type": "code",
   "execution_count": null,
   "metadata": {},
   "outputs": [],
   "source": []
  }
 ],
 "metadata": {
  "kernelspec": {
   "display_name": "py37_pytorch",
   "language": "python",
   "name": "conda-env-py37_pytorch-py"
  },
  "language_info": {
   "codemirror_mode": {
    "name": "ipython",
    "version": 3
   },
   "file_extension": ".py",
   "mimetype": "text/x-python",
   "name": "python",
   "nbconvert_exporter": "python",
   "pygments_lexer": "ipython3",
   "version": "3.7.9"
  }
 },
 "nbformat": 4,
 "nbformat_minor": 4
}
