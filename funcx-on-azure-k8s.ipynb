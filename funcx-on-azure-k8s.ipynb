{
 "cells": [
  {
   "cell_type": "markdown",
   "metadata": {},
   "source": [
    "### The Classifier on Kubernetes with FuncX\n",
    "This is the code that demostrates the BERT classifier running in multiple pods on kubernetes.\n"
   ]
  },
  {
   "cell_type": "code",
   "execution_count": 1,
   "metadata": {},
   "outputs": [],
   "source": [
    "from funcx.sdk.client import FuncXClient"
   ]
  },
  {
   "cell_type": "code",
   "execution_count": 2,
   "metadata": {},
   "outputs": [],
   "source": [
    "fxc = FuncXClient()"
   ]
  },
  {
   "cell_type": "markdown",
   "metadata": {},
   "source": [
    "make sure our link to the k8 cluster is up and running"
   ]
  },
  {
   "cell_type": "code",
   "execution_count": 10,
   "metadata": {},
   "outputs": [
    {
     "name": "stdout",
     "output_type": "stream",
     "text": [
      "599e6870-451c-4e54-a5e0-5712b6ffb026\n"
     ]
    }
   ],
   "source": [
    "def hello_world():\n",
    "    return \"Hello World AGAIN fool\"\n",
    "\n",
    "func_uuid = fxc.register_function(hello_world)\n",
    "print(func_uuid)"
   ]
  },
  {
   "cell_type": "code",
   "execution_count": 11,
   "metadata": {},
   "outputs": [],
   "source": [
    "import time"
   ]
  },
  {
   "cell_type": "code",
   "execution_count": 12,
   "metadata": {},
   "outputs": [
    {
     "name": "stdout",
     "output_type": "stream",
     "text": [
      "00be6752-184f-45a5-b59c-3967b00edb8f\n"
     ]
    }
   ],
   "source": [
    "vmendpoint = '23399a56-9e87-4e4b-b167-e48bac66c853'\n",
    "res = fxc.run(endpoint_id=vmendpoint, function_id=func_uuid)\n",
    "print(res)\n"
   ]
  },
  {
   "cell_type": "code",
   "execution_count": 13,
   "metadata": {},
   "outputs": [
    {
     "name": "stdout",
     "output_type": "stream",
     "text": [
      "Hello World AGAIN fool\n"
     ]
    }
   ],
   "source": [
    "while fxc.get_task(res)['pending']:\n",
    "    time.sleep(3)\n",
    "    print(fxc.get_task(res)['pending'])\n",
    "print (fxc.get_result(res))  "
   ]
  },
  {
   "cell_type": "code",
   "execution_count": 92,
   "metadata": {},
   "outputs": [],
   "source": [
    "fxc.throttling_enabled = False"
   ]
  },
  {
   "cell_type": "code",
   "execution_count": 16,
   "metadata": {},
   "outputs": [
    {
     "name": "stdout",
     "output_type": "stream",
     "text": [
      "/\n",
      "\n"
     ]
    }
   ],
   "source": [
    "def funcx_pwd(name):\n",
    "    import os\n",
    "    \n",
    "    return os.popen(\"pwd\").read()\n",
    "\n",
    "pwd_function = fxc.register_function(funcx_pwd)\n",
    "\n",
    "res = fxc.run(\"Dog\", endpoint_id=vmendpoint, function_id=pwd_function)\n",
    "\n",
    "print (fxc.get_result(res))"
   ]
  },
  {
   "cell_type": "markdown",
   "metadata": {},
   "source": [
    "#### Running the classifier\n",
    "we now run the classifier.  this version uses the document id list for input.  the classifier has the full list of test document abstracts and the \"true\" classification.  we give it a list of doc ids and it returns the BERT classifier id and the true id."
   ]
  },
  {
   "cell_type": "code",
   "execution_count": 24,
   "metadata": {},
   "outputs": [
    {
     "name": "stdout",
     "output_type": "stream",
     "text": [
      "True\n",
      "True\n",
      "True\n",
      "False\n",
      "(array([1, 0, 2, 0, 0, 3, 2, 2, 2], dtype=int64), [1, 0, 2, 0, 0, 2, 2, 2, 2])\n"
     ]
    }
   ],
   "source": [
    "import time\n",
    "def funcx_imp2(id_list):\n",
    "    import sys\n",
    "    sys.path.append('/')\n",
    "    from classifier import classify\n",
    "    x,y = classify(id_list)\n",
    "    return x,y\n",
    "\n",
    "go2_fun = fxc.register_function(funcx_imp2)\n",
    "\n",
    "res = fxc.run(\"[501,511,521,888,889,890,650,651,652]\", endpoint_id=vmendpoint, function_id=go2_fun)\n",
    "print(fxc.get_task(res)['pending'])\n",
    "while fxc.get_task(res)['pending']:\n",
    "    time.sleep(3)\n",
    "    print(fxc.get_task(res)['pending'])\n",
    "print (fxc.get_result(res))  "
   ]
  },
  {
   "cell_type": "markdown",
   "metadata": {},
   "source": [
    "now do two calls in parallel"
   ]
  },
  {
   "cell_type": "code",
   "execution_count": 25,
   "metadata": {},
   "outputs": [
    {
     "name": "stdout",
     "output_type": "stream",
     "text": [
      "True\n",
      "True False\n",
      "True False\n",
      "False False\n",
      "(array([1, 0, 2, 0, 0, 3, 2, 2, 2], dtype=int64), [1, 0, 2, 0, 0, 2, 2, 2, 2]) (array([0, 2, 0, 1, 1, 2, 2, 2, 2], dtype=int64), [0, 2, 1, 1, 1, 2, 2, 2, 2])\n"
     ]
    }
   ],
   "source": [
    "\n",
    "res = fxc.run(\"[501,511,521,888,889,890,650,651,652]\", endpoint_id=vmendpoint, function_id=go2_fun)\n",
    "res2 = fxc.run(\"[511,521,531,898,899,891,650,651,652]\", endpoint_id=vmendpoint, function_id=go2_fun)\n",
    "print(fxc.get_task(res)['pending'])\n",
    "while fxc.get_task(res)['pending'] or fxc.get_task(res2)['pending']:\n",
    "    time.sleep(3)\n",
    "    print(fxc.get_task(res)['pending'], fxc.get_task(res2)['pending'])\n",
    "\n",
    "\n",
    "print (fxc.get_result(res), fxc.get_result(res2))  "
   ]
  },
  {
   "cell_type": "code",
   "execution_count": 26,
   "metadata": {},
   "outputs": [
    {
     "name": "stdout",
     "output_type": "stream",
     "text": [
      "(array([1, 0, 2, 0, 0, 3, 2, 2, 2], dtype=int64), [1, 0, 2, 0, 0, 2, 2, 2, 2]) (array([0, 2, 0, 1, 1, 2, 2, 2, 2], dtype=int64), [0, 2, 1, 1, 1, 2, 2, 2, 2])\n"
     ]
    }
   ],
   "source": [
    "print (fxc.get_result(res), fxc.get_result(res2))  "
   ]
  },
  {
   "cell_type": "markdown",
   "metadata": {},
   "source": [
    "note: in the above the first result has an 3-2 error in position 6 and the second has a 1-0 error in position 3.\n",
    "\n",
    "we next divide 250 documents into list of length 250/p for p in the range 1 to 10.  \n",
    "Each value of vals_str[i] is the list of 250/(i+1) document ids for i in range 0 to 9"
   ]
  },
  {
   "cell_type": "code",
   "execution_count": 154,
   "metadata": {},
   "outputs": [
    {
     "name": "stdout",
     "output_type": "stream",
     "text": [
      "250\n",
      "125\n",
      "83\n",
      "62\n",
      "50\n",
      "42\n",
      "36\n",
      "31\n",
      "28\n",
      "25\n",
      "10\n"
     ]
    }
   ],
   "source": [
    "vals_str = []\n",
    "vals = []\n",
    "m = 250\n",
    "for p in range(1,11):\n",
    "    k =  round(m/p)\n",
    "    st = '['\n",
    "    v =[]\n",
    "    for i in range(k):\n",
    "        v.append(i)\n",
    "        if i == 0:\n",
    "            st+='0'\n",
    "        else:\n",
    "            st+=\",\"+str(1000+i)\n",
    "    st +=\"]\"\n",
    "    vals.append(v)\n",
    "    vals_str.append(st)\n",
    "    print(len(v))\n",
    "print(len(vals_str))\n",
    "    \n"
   ]
  },
  {
   "cell_type": "markdown",
   "metadata": {},
   "source": [
    "we had to do some rounding calculate this, so let's compute the total length of each.   we will launch p string to classify each with p-1 docs.   does that equal 250 for each?  not exactly, but close enough."
   ]
  },
  {
   "cell_type": "code",
   "execution_count": 155,
   "metadata": {
    "scrolled": true
   },
   "outputs": [
    {
     "name": "stdout",
     "output_type": "stream",
     "text": [
      "250\n",
      "250\n",
      "249\n",
      "248\n",
      "250\n",
      "252\n",
      "252\n",
      "248\n",
      "252\n",
      "250\n"
     ]
    }
   ],
   "source": [
    "for p in range(1,11):\n",
    "    print(p*len(vals[p-1]))"
   ]
  },
  {
   "cell_type": "code",
   "execution_count": 116,
   "metadata": {},
   "outputs": [
    {
     "name": "stdout",
     "output_type": "stream",
     "text": [
      "True\n",
      "True\n",
      "True\n",
      "True\n",
      "True\n",
      "True\n",
      "True\n",
      "True\n",
      "True\n",
      "True\n",
      "True\n",
      "True\n",
      "True\n",
      "True\n",
      "True\n",
      "True\n",
      "False\n",
      "(array([0, 1, 2, 2, 0, 2, 3, 2, 0, 2, 2, 2, 2, 2, 1, 0, 0, 0, 2, 2, 3, 1,\n",
      "       4, 2, 0, 0, 3, 0, 2, 2, 2, 3, 1, 1, 0, 2, 4, 2, 4, 1, 0, 2, 2, 2,\n",
      "       2, 0, 0, 0, 0, 2, 3, 1, 2, 1, 2, 4, 0, 3, 2, 1, 2, 1, 1, 3, 2, 2,\n",
      "       0, 3, 2, 4, 0, 4, 2, 2, 0, 2, 0, 0, 2, 3, 0, 1, 2, 2, 2, 3, 1, 2,\n",
      "       0, 4, 2, 2, 2, 2, 0, 2, 3, 2, 0, 2, 2, 2, 2, 3, 2, 1, 1, 0, 2, 0,\n",
      "       2, 2, 1, 1, 2, 1, 1, 0, 0, 1, 2, 2, 2, 2, 0, 1, 1, 2, 1, 2, 0, 4,\n",
      "       0, 2, 1, 2, 2, 1, 0, 3, 0, 0, 1, 3, 2, 1, 2, 4, 0, 3, 1, 2, 2, 1,\n",
      "       2, 0, 4, 0, 2, 1, 2, 2, 1, 0, 3, 0, 0, 1, 3, 2, 1, 2, 4, 0, 3, 1,\n",
      "       2, 2, 1, 2, 2, 2, 1, 0, 1, 2, 2, 0, 1, 2, 1, 4, 1, 2, 1, 4, 2, 2,\n",
      "       3, 0, 1, 2, 2, 2, 4, 2, 0, 4, 1, 2, 2, 2, 1, 1, 2, 2, 1, 2, 2, 2,\n",
      "       1, 2, 2, 1, 0, 2, 0, 3, 2, 1, 4, 2, 1, 0, 3, 1, 0, 2, 2, 1, 2, 3,\n",
      "       0, 1, 2, 1, 1, 2, 1, 4], dtype=int64), [1, 1, 2, 2, 0, 2, 2, 2, 0, 1, 2, 2, 2, 2, 1, 1, 0, 0, 2, 1, 3, 1, 4, 2, 0, 0, 3, 1, 2, 2, 2, 3, 1, 0, 1, 2, 1, 2, 1, 2, 0, 2, 2, 2, 2, 0, 0, 0, 1, 2, 3, 1, 2, 1, 2, 1, 0, 1, 2, 1, 2, 2, 1, 3, 2, 2, 0, 3, 2, 4, 1, 4, 2, 2, 0, 2, 1, 0, 2, 0, 0, 1, 2, 2, 2, 1, 1, 3, 0, 4, 2, 2, 2, 2, 0, 2, 3, 2, 0, 2, 2, 2, 2, 1, 2, 1, 1, 2, 2, 0, 2, 2, 1, 1, 2, 1, 0, 0, 0, 1, 2, 2, 2, 3, 0, 1, 1, 2, 1, 2, 3, 4, 0, 2, 1, 2, 2, 1, 0, 3, 0, 2, 1, 3, 2, 0, 2, 4, 0, 3, 1, 2, 2, 1, 2, 3, 4, 0, 2, 1, 2, 2, 1, 0, 3, 0, 2, 1, 3, 2, 0, 2, 4, 0, 3, 1, 2, 2, 1, 2, 2, 2, 0, 2, 1, 2, 2, 0, 1, 2, 1, 4, 1, 2, 1, 1, 2, 2, 3, 0, 1, 2, 2, 2, 1, 3, 0, 1, 1, 2, 2, 2, 1, 1, 3, 2, 0, 2, 2, 2, 1, 2, 2, 1, 0, 2, 0, 3, 2, 1, 4, 2, 1, 0, 1, 1, 0, 2, 2, 2, 2, 3, 0, 1, 2, 1, 1, 2, 1, 4])\n",
      "2600 total time= 54.775516986846924 time per classification = 0.2191020679473877\n",
      "True\n",
      "True\n",
      "True\n",
      "True\n",
      "True\n",
      "True\n",
      "True\n",
      "True\n",
      "False\n",
      "(array([0, 1, 2, 2, 0, 2, 3, 2, 0, 2, 2, 2, 2, 2, 1, 0, 0, 0, 2, 2, 3, 1,\n",
      "       4, 2, 0, 0, 3, 0, 2, 2, 2, 3, 1, 1, 0, 2, 4, 2, 4, 1, 0, 2, 2, 2,\n",
      "       2, 0, 0, 0, 0, 2, 3, 1, 2, 1, 2, 4, 0, 3, 2, 1, 2, 1, 1, 3, 2, 2,\n",
      "       0, 3, 2, 4, 0, 4, 2, 2, 0, 2, 0, 0, 2, 3, 0, 1, 2, 2, 2, 3, 1, 2,\n",
      "       0, 4, 2, 2, 2, 2, 0, 2, 3, 2, 0, 2, 2, 2, 2, 3, 2, 1, 1, 0, 2, 0,\n",
      "       2, 2, 1, 1, 2, 1, 1, 0, 0, 1, 2, 2, 2, 2, 0], dtype=int64), [1, 1, 2, 2, 0, 2, 2, 2, 0, 1, 2, 2, 2, 2, 1, 1, 0, 0, 2, 1, 3, 1, 4, 2, 0, 0, 3, 1, 2, 2, 2, 3, 1, 0, 1, 2, 1, 2, 1, 2, 0, 2, 2, 2, 2, 0, 0, 0, 1, 2, 3, 1, 2, 1, 2, 1, 0, 1, 2, 1, 2, 2, 1, 3, 2, 2, 0, 3, 2, 4, 1, 4, 2, 2, 0, 2, 1, 0, 2, 0, 0, 1, 2, 2, 2, 1, 1, 3, 0, 4, 2, 2, 2, 2, 0, 2, 3, 2, 0, 2, 2, 2, 2, 1, 2, 1, 1, 2, 2, 0, 2, 2, 1, 1, 2, 1, 0, 0, 0, 1, 2, 2, 2, 3, 0])\n",
      "2600 total time= 29.560881853103638 time per classification = 0.11824352741241455\n",
      "True\n",
      "True\n",
      "True\n",
      "True\n",
      "True\n",
      "False\n",
      "(array([0, 1, 2, 2, 0, 2, 3, 2, 0, 2, 2, 2, 2, 2, 1, 0, 0, 0, 2, 2, 3, 1,\n",
      "       4, 2, 0, 0, 3, 0, 2, 2, 2, 3, 1, 1, 0, 2, 4, 2, 4, 1, 0, 2, 2, 2,\n",
      "       2, 0, 0, 0, 0, 2, 3, 1, 2, 1, 2, 4, 0, 3, 2, 1, 2, 1, 1, 3, 2, 2,\n",
      "       0, 3, 2, 4, 0, 4, 2, 2, 0, 2, 0, 0, 2, 3, 0, 1, 2], dtype=int64), [1, 1, 2, 2, 0, 2, 2, 2, 0, 1, 2, 2, 2, 2, 1, 1, 0, 0, 2, 1, 3, 1, 4, 2, 0, 0, 3, 1, 2, 2, 2, 3, 1, 0, 1, 2, 1, 2, 1, 2, 0, 2, 2, 2, 2, 0, 0, 0, 1, 2, 3, 1, 2, 1, 2, 1, 0, 1, 2, 1, 2, 2, 1, 3, 2, 2, 0, 3, 2, 4, 1, 4, 2, 2, 0, 2, 1, 0, 2, 0, 0, 1, 2])\n",
      "2600 total time= 20.28790593147278 time per classification = 0.08147753386133647\n",
      "True\n",
      "True\n",
      "True\n",
      "False\n",
      "(array([0, 1, 2, 2, 0, 2, 3, 2, 0, 2, 2, 2, 2, 2, 1, 0, 0, 0, 2, 2, 3, 1,\n",
      "       4, 2, 0, 0, 3, 0, 2, 2, 2, 3, 1, 1, 0, 2, 4, 2, 4, 1, 0, 2, 2, 2,\n",
      "       2, 0, 0, 0, 0, 2, 3, 1, 2, 1, 2, 4, 0, 3, 2, 1, 2, 1], dtype=int64), [1, 1, 2, 2, 0, 2, 2, 2, 0, 1, 2, 2, 2, 2, 1, 1, 0, 0, 2, 1, 3, 1, 4, 2, 0, 0, 3, 1, 2, 2, 2, 3, 1, 0, 1, 2, 1, 2, 1, 2, 0, 2, 2, 2, 2, 0, 0, 0, 1, 2, 3, 1, 2, 1, 2, 1, 0, 1, 2, 1, 2, 2])\n",
      "2600 total time= 14.281518697738647 time per classification = 0.057586768942494544\n",
      "True\n",
      "True\n",
      "True\n",
      "True\n",
      "False\n",
      "(array([0, 1, 2, 2, 0, 2, 3, 2, 0, 2, 2, 2, 2, 2, 1, 0, 0, 0, 2, 2, 3, 1,\n",
      "       4, 2, 0, 0, 3, 0, 2, 2, 2, 3, 1, 1, 0, 2, 4, 2, 4, 1, 0, 2, 2, 2,\n",
      "       2, 0, 0, 0, 0, 2], dtype=int64), [1, 1, 2, 2, 0, 2, 2, 2, 0, 1, 2, 2, 2, 2, 1, 1, 0, 0, 2, 1, 3, 1, 4, 2, 0, 0, 3, 1, 2, 2, 2, 3, 1, 0, 1, 2, 1, 2, 1, 2, 0, 2, 2, 2, 2, 0, 0, 0, 1, 2])\n",
      "2600 total time= 17.776729345321655 time per classification = 0.07110691738128662\n",
      "True\n",
      "True\n",
      "True\n",
      "True\n",
      "True\n",
      "False\n",
      "(array([0, 1, 2, 2, 0, 2, 3, 2, 0, 2, 2, 2, 2, 2, 1, 0, 0, 0, 2, 2, 3, 1,\n",
      "       4, 2, 0, 0, 3, 0, 2, 2, 2, 3, 1, 1, 0, 2, 4, 2, 4, 1, 0, 2],\n",
      "      dtype=int64), [1, 1, 2, 2, 0, 2, 2, 2, 0, 1, 2, 2, 2, 2, 1, 1, 0, 0, 2, 1, 3, 1, 4, 2, 0, 0, 3, 1, 2, 2, 2, 3, 1, 0, 1, 2, 1, 2, 1, 2, 0, 2])\n",
      "2600 total time= 21.951364755630493 time per classification = 0.08710859030012101\n",
      "True\n",
      "True\n",
      "True\n",
      "True\n",
      "False\n",
      "(array([0, 1, 2, 2, 0, 2, 3, 2, 0, 2, 2, 2, 2, 2, 1, 0, 0, 0, 2, 2, 3, 1,\n",
      "       4, 2, 0, 0, 3, 0, 2, 2, 2, 3, 1, 1, 0, 2], dtype=int64), [1, 1, 2, 2, 0, 2, 2, 2, 0, 1, 2, 2, 2, 2, 1, 1, 0, 0, 2, 1, 3, 1, 4, 2, 0, 0, 3, 1, 2, 2, 2, 3, 1, 0, 1, 2])\n",
      "2600 total time= 19.536343574523926 time per classification = 0.07752517291477748\n",
      "True\n",
      "True\n",
      "True\n",
      "True\n",
      "True\n",
      "False\n",
      "(array([0, 1, 2, 2, 0, 2, 3, 2, 0, 2, 2, 2, 2, 2, 1, 0, 0, 0, 2, 2, 3, 1,\n",
      "       4, 2, 0, 0, 3, 0, 2, 2, 2], dtype=int64), [1, 1, 2, 2, 0, 2, 2, 2, 0, 1, 2, 2, 2, 2, 1, 1, 0, 0, 2, 1, 3, 1, 4, 2, 0, 0, 3, 1, 2, 2, 2])\n",
      "2600 total time= 22.364519119262695 time per classification = 0.09017951257767216\n",
      "True\n",
      "True\n",
      "True\n",
      "True\n",
      "True\n",
      "True\n",
      "False\n",
      "(array([0, 1, 2, 2, 0, 2, 3, 2, 0, 2, 2, 2, 2, 2, 1, 0, 0, 0, 2, 2, 3, 1,\n",
      "       4, 2, 0, 0, 3, 0], dtype=int64), [1, 1, 2, 2, 0, 2, 2, 2, 0, 1, 2, 2, 2, 2, 1, 1, 0, 0, 2, 1, 3, 1, 4, 2, 0, 0, 3, 1])\n",
      "2600 total time= 26.310880184173584 time per classification = 0.10440825469910152\n",
      "True\n",
      "True\n",
      "True\n",
      "True\n",
      "True\n",
      "False\n",
      "(array([0, 1, 2, 2, 0, 2, 3, 2, 0, 2, 2, 2, 2, 2, 1, 0, 0, 0, 2, 2, 3, 1,\n",
      "       4, 2, 0], dtype=int64), [1, 1, 2, 2, 0, 2, 2, 2, 0, 1, 2, 2, 2, 2, 1, 1, 0, 0, 2, 1, 3, 1, 4, 2, 0])\n",
      "2600 total time= 23.45396852493286 time per classification = 0.09381587409973144\n"
     ]
    }
   ],
   "source": [
    "vtimes = []\n",
    "for p in range(1,11):\n",
    "    t1 = time.time()\n",
    "    res_list = []\n",
    "    for i in range(p):\n",
    "        res_list.append(fxc.run(vals_str[p-1], endpoint_id=vmendpoint, function_id=go2_function))\n",
    "    wait = True\n",
    "    while wait:\n",
    "        wait = False        \n",
    "        time.sleep(3)\n",
    "        for i in range(p):\n",
    "            wait = wait or fxc.get_task(res_list[i])['pending']\n",
    "        print(wait)\n",
    "    t2 = time.time()\n",
    "    print (fxc.get_result(res_list[0])) \n",
    "    print(n,'total time=', t2-t1, 'time per classification =',(t2-t1)/(len(vals[p-1])*p) ) \n",
    "    vtimes.append((len(vals[p-1]), t2-t1, (t2-t1)/(len(vals[p-1])*p)))\n",
    "    \n"
   ]
  },
  {
   "cell_type": "code",
   "execution_count": 153,
   "metadata": {},
   "outputs": [
    {
     "data": {
      "text/plain": [
       "[(250, 54.775516986846924, 0.2191020679473877),\n",
       " (125, 29.560881853103638, 0.11824352741241455),\n",
       " (83, 20.28790593147278, 0.08147753386133647),\n",
       " (62, 14.281518697738647, 0.057586768942494544),\n",
       " (50, 17.776729345321655, 0.07110691738128662),\n",
       " (42, 21.951364755630493, 0.08710859030012101),\n",
       " (36, 19.536343574523926, 0.07752517291477748),\n",
       " (31, 22.364519119262695, 0.09017951257767216),\n",
       " (28, 26.310880184173584, 0.10440825469910152),\n",
       " (25, 23.45396852493286, 0.09381587409973144)]"
      ]
     },
     "execution_count": 153,
     "metadata": {},
     "output_type": "execute_result"
    }
   ],
   "source": [
    "times250"
   ]
  },
  {
   "cell_type": "code",
   "execution_count": 183,
   "metadata": {},
   "outputs": [
    {
     "data": {
      "text/plain": [
       "<matplotlib.axes._subplots.AxesSubplot at 0x1e267b6b5c8>"
      ]
     },
     "execution_count": 183,
     "metadata": {},
     "output_type": "execute_result"
    },
    {
     "data": {
      "image/png": "[encoded data removed]",
      "text/plain": [
       "<Figure size 432x288 with 1 Axes>"
      ]
     },
     "metadata": {
      "needs_background": "light"
     },
     "output_type": "display_data"
    }
   ],
   "source": [
    "pods = []\n",
    "times = []\n",
    "for i in range(1,11):\n",
    "    pods.append(str(i))\n",
    "    times.append(times250[i-1][1])\n",
    "\n",
    "data2 = {\"number of blocks\":pods, 'elasped time':times};\n",
    "dataFrame = pd.DataFrame(data=data2)\n",
    "dataFrame.plot.bar(x=\"number of blocks\", y='elasped time',rot=0, title=\"performance\")"
   ]
  },
  {
   "cell_type": "markdown",
   "metadata": {},
   "source": [
    "In this experiement we take a fixed number (250) documents and divide it into blocs of size 250/p where p ranges from 1 to 10.  We then run each set of blocs and compute the execution time.  in the first case one pod computes the entire set of 250 docs in 54 seconds.  next two pods working in parallel complete the task in 29 seconds.  The optimal case occurs when 4 pods work in parallel on the 4 blocks. after that the 5 pods suffer scheduling delays trying to execute more tasks than 4.  Recall that we only had 1 cpu per pod.  While 5 pods are available, the endpoint is also running on one of them.\n",
    "\n",
    "A second question is to look at the average time per inference achieved."
   ]
  },
  {
   "cell_type": "code",
   "execution_count": 185,
   "metadata": {},
   "outputs": [
    {
     "data": {
      "text/plain": [
       "<matplotlib.axes._subplots.AxesSubplot at 0x1e268c2c788>"
      ]
     },
     "execution_count": 185,
     "metadata": {},
     "output_type": "execute_result"
    },
    {
     "data": {
      "image/png": "[encoded data removed]",
      "text/plain": [
       "<Figure size 432x288 with 1 Axes>"
      ]
     },
     "metadata": {
      "needs_background": "light"
     },
     "output_type": "display_data"
    }
   ],
   "source": [
    "pods = []\n",
    "times = []\n",
    "for i in range(1,11):\n",
    "    pods.append(str(i))\n",
    "    times.append(times250[i-1][2])\n",
    "\n",
    "data3 = {\"number of blocks\":pods, 'average time per inference':times};\n",
    "dataFrame = pd.DataFrame(data=data3)\n",
    "dataFrame.plot.bar(x=\"number of blocks\", y='average time per inference',rot=0, title=\"performance\")"
   ]
  },
  {
   "cell_type": "markdown",
   "metadata": {},
   "source": [
    "Another factor is that every execution of the classify function my load the model.   If the model load time is C and the the rate of each classify operation is r, then for N classification the total time is\n",
    "$$\n",
    "t(N) = C + rN\n",
    "$$\n",
    "so the average for time for all N is\n",
    "$$\n",
    "average(N) ~=~ \\frac{t(N)}{N} ~=~ \\frac{C}{N} + r\n",
    "$$\n",
    "now if the load is divided among p processors in parallel then the time is\n",
    "$$\n",
    "t(N/p) ~=~ C+r\\frac{N}{p} \n",
    "$$\n",
    "so the average to evaluate N/p items is now\n",
    "$$\n",
    "average ~=~ \\frac{C}{N} + r\\frac{\\frac{N}{p}}{N} ~=~ \\frac{C}{N} + \\frac{r}{p}\n",
    "$$"
   ]
  },
  {
   "cell_type": "code",
   "execution_count": 213,
   "metadata": {},
   "outputs": [
    {
     "data": {
      "text/plain": [
       "[<matplotlib.lines.Line2D at 0x1e26a73a908>]"
      ]
     },
     "execution_count": 213,
     "metadata": {},
     "output_type": "execute_result"
    },
    {
     "data": {
      "image/png": "[encoded data removed]",
      "text/plain": [
       "<Figure size 432x288 with 1 Axes>"
      ]
     },
     "metadata": {
      "needs_background": "light"
     },
     "output_type": "display_data"
    }
   ],
   "source": [
    "x = [i for i in range(1,11)]\n",
    "C = 3\n",
    "r = 0.2\n",
    "N = 512\n",
    "def f(p):\n",
    "    y = C/N+r/p\n",
    "    if p < 5:\n",
    "        return y\n",
    "    else:\n",
    "        return C/N+r/4 + 0.003*p\n",
    "    \n",
    "y = [f(p) for p in range(1,11)]\n",
    "z = [C+ r*N/p for p in range(1,10)]\n",
    "plot.plot(x, y, color='green') #, marker='o', linestyle='dashed', linewidth=1, markersize=12)\n",
    "#plot.plot(x, z)"
   ]
  },
  {
   "cell_type": "markdown",
   "metadata": {},
   "source": [
    "for fun, let's compute the accuracy for this 250 doc sample.   "
   ]
  },
  {
   "cell_type": "code",
   "execution_count": 67,
   "metadata": {},
   "outputs": [
    {
     "name": "stdout",
     "output_type": "stream",
     "text": [
      "210 0.84\n"
     ]
    }
   ],
   "source": [
    "correct = 0\n",
    "for i in range(250):\n",
    "    if result[0][i] == result[1][i]:\n",
    "        correct +=1\n",
    "print(correct,  correct/250)\n",
    "    "
   ]
  },
  {
   "cell_type": "markdown",
   "metadata": {},
   "source": [
    "that is good!  (in general it is only 76% on the full test set)"
   ]
  },
  {
   "cell_type": "code",
   "execution_count": 87,
   "metadata": {},
   "outputs": [],
   "source": [
    "speed = [ times[i]/(lens[i]*(i+1)) for i in range(8)]"
   ]
  },
  {
   "cell_type": "code",
   "execution_count": 88,
   "metadata": {},
   "outputs": [
    {
     "data": {
      "text/plain": [
       "[0.18196,\n",
       " 0.10532,\n",
       " 0.08164658634538152,\n",
       " 0.05689516129032258,\n",
       " 0.07268000000000001,\n",
       " 0.08626984126984126,\n",
       " 0.07396825396825397,\n",
       " 0.0955241935483871]"
      ]
     },
     "execution_count": 88,
     "metadata": {},
     "output_type": "execute_result"
    }
   ],
   "source": [
    "speed"
   ]
  },
  {
   "cell_type": "code",
   "execution_count": 121,
   "metadata": {},
   "outputs": [
    {
     "name": "stdout",
     "output_type": "stream",
     "text": [
      "20\n",
      "20\n",
      "20\n",
      "20\n",
      "20\n",
      "20\n",
      "20\n",
      "20\n",
      "20\n",
      "20\n",
      "20\n",
      "20\n",
      "20\n",
      "20\n",
      "20\n",
      "20\n",
      "20\n",
      "20\n",
      "20\n",
      "20\n",
      "20\n",
      "20\n",
      "20\n",
      "20\n",
      "20\n",
      "20\n",
      "20\n",
      "20\n",
      "20\n",
      "20\n",
      "20\n",
      "20\n",
      "20\n",
      "20\n",
      "20\n",
      "20\n",
      "20\n",
      "20\n",
      "20\n",
      "20\n",
      "20\n",
      "20\n",
      "20\n",
      "20\n",
      "20\n",
      "20\n",
      "20\n",
      "20\n",
      "20\n",
      "20\n",
      "20\n",
      "20\n",
      "20\n",
      "20\n",
      "20\n",
      "20\n",
      "20\n",
      "20\n",
      "20\n",
      "20\n",
      "20\n",
      "20\n",
      "20\n",
      "20\n",
      "20\n",
      "20\n",
      "20\n",
      "20\n",
      "20\n",
      "20\n",
      "20\n",
      "20\n",
      "20\n",
      "20\n",
      "20\n",
      "20\n",
      "20\n",
      "20\n",
      "20\n",
      "20\n",
      "20\n",
      "20\n",
      "20\n",
      "20\n",
      "20\n",
      "20\n",
      "20\n",
      "20\n",
      "20\n",
      "20\n",
      "20\n",
      "20\n",
      "20\n",
      "20\n",
      "20\n",
      "20\n",
      "20\n",
      "20\n",
      "20\n",
      "20\n",
      "20\n",
      "20\n",
      "20\n",
      "20\n",
      "20\n",
      "20\n",
      "20\n",
      "20\n",
      "20\n",
      "20\n",
      "20\n",
      "20\n",
      "20\n",
      "20\n",
      "20\n",
      "20\n",
      "20\n",
      "20\n",
      "20\n",
      "20\n",
      "20\n",
      "20\n",
      "20\n",
      "20\n",
      "20\n",
      "20\n",
      "20\n",
      "20\n",
      "20\n",
      "20\n",
      "130\n"
     ]
    }
   ],
   "source": [
    "vals_str = []\n",
    "vals = []\n",
    "n = 0\n",
    "for p in range(130):\n",
    "    st = '['\n",
    "    v =[]\n",
    "    for i in range(20):\n",
    "        v.append(n+i)\n",
    "        if i == 0:\n",
    "            st+=str(n)\n",
    "        else:\n",
    "            st+=\",\"+str(n+i)\n",
    "    st +=\"]\"\n",
    "    n+=20\n",
    "    vals.append(v)\n",
    "    vals_str.append(st)\n",
    "    print(len(v))\n",
    "print(len(vals_str))\n",
    "    "
   ]
  },
  {
   "cell_type": "markdown",
   "metadata": {},
   "source": [
    "#### calculating speed-up\n",
    "we  will use the set  of strings above to calculate the speed-up for various number of processors. In this case we have 130 sets of document ids with each set of length 20.   "
   ]
  },
  {
   "cell_type": "code",
   "execution_count": 144,
   "metadata": {},
   "outputs": [
    {
     "name": "stdout",
     "output_type": "stream",
     "text": [
      "True\n",
      "False\n",
      "(array([4, 0, 0, 2, 1, 1, 0, 1, 0, 2, 4, 1, 0, 2, 1, 0, 1, 1, 4, 0],\n",
      "      dtype=int64), [0, 0, 1, 2, 0, 0, 1, 0, 0, 2, 0, 1, 0, 2, 1, 1, 1, 1, 4, 0])\n",
      "2600 total time= 7.502154111862183 time per classification = 0.037510770559310916\n",
      "True\n",
      "False\n",
      "(array([1, 1, 0, 1, 0, 0, 0, 0, 1, 1, 0, 1, 1, 0, 1, 3, 0, 0, 1, 1],\n",
      "      dtype=int64), [1, 1, 0, 1, 0, 0, 0, 0, 1, 1, 0, 0, 1, 0, 1, 3, 0, 0, 1, 1])\n",
      "2600 total time= 6.9744133949279785 time per classification = 0.03487206697463989\n",
      "True\n",
      "False\n",
      "(array([0, 0, 4, 1, 1, 2, 0, 1, 1, 0, 0, 1, 0, 1, 0, 0, 1, 0, 0, 0],\n",
      "      dtype=int64), [0, 0, 1, 0, 1, 2, 1, 1, 1, 0, 1, 1, 1, 1, 2, 0, 1, 0, 0, 0])\n",
      "2600 total time= 7.08241868019104 time per classification = 0.0354120934009552\n",
      "True\n",
      "False\n",
      "(array([1, 1, 1, 1, 2, 0, 0, 3, 1, 0, 1, 0, 1, 1, 0, 0, 2, 0, 2, 0],\n",
      "      dtype=int64), [1, 1, 1, 0, 1, 0, 1, 3, 1, 0, 1, 0, 1, 1, 0, 0, 2, 0, 2, 0])\n",
      "2600 total time= 7.056995630264282 time per classification = 0.03528497815132141\n",
      "True\n",
      "False\n",
      "(array([1, 0, 1, 1, 0, 0, 3, 0, 1, 4, 1, 0, 0, 0, 0, 0, 0, 0, 1, 3],\n",
      "      dtype=int64), [1, 1, 1, 1, 1, 0, 1, 1, 1, 4, 1, 0, 1, 1, 0, 1, 1, 0, 1, 1])\n",
      "2600 total time= 7.0928730964660645 time per classification = 0.03546436548233032\n",
      "True\n",
      "False\n",
      "(array([2, 1, 0, 2, 2, 2, 2, 4, 1, 0, 1, 2, 3, 1, 3, 1, 2, 0, 0, 1],\n",
      "      dtype=int64), [1, 1, 0, 2, 1, 2, 2, 1, 1, 0, 0, 2, 1, 1, 1, 1, 1, 0, 0, 1])\n",
      "2600 total time= 7.2025697231292725 time per classification = 0.03601284861564636\n",
      "True\n",
      "False\n",
      "(array([1, 1, 0, 0, 0, 3, 0, 2, 1, 0, 1, 0, 1, 0, 1, 1, 1, 3, 3, 0],\n",
      "      dtype=int64), [2, 0, 0, 0, 0, 3, 1, 2, 1, 0, 1, 0, 1, 0, 1, 1, 1, 3, 0, 1])\n",
      "2600 total time= 7.173194169998169 time per classification = 0.035865970849990846\n",
      "True\n",
      "False\n",
      "(array([0, 2, 0, 0, 0, 4, 0, 1, 0, 0, 1, 0, 2, 0, 1, 1, 2, 1, 2, 0],\n",
      "      dtype=int64), [0, 1, 1, 1, 0, 1, 0, 1, 0, 1, 0, 1, 2, 0, 1, 2, 1, 1, 2, 0])\n",
      "2600 total time= 7.295224905014038 time per classification = 0.03647612452507019\n",
      "True\n",
      "False\n",
      "(array([0, 2, 1, 0, 0, 1, 1, 0, 3, 3, 1, 0, 1, 0, 1, 0, 1, 1, 0, 0],\n",
      "      dtype=int64), [0, 2, 1, 1, 1, 1, 1, 0, 2, 3, 1, 1, 1, 0, 1, 2, 0, 1, 0, 0])\n",
      "2600 total time= 7.157881021499634 time per classification = 0.035789405107498166\n",
      "True\n",
      "False\n",
      "(array([0, 2, 0, 0, 0, 0, 0, 0, 3, 0, 1, 1, 0, 0, 0, 1, 0, 0, 0, 1],\n",
      "      dtype=int64), [1, 2, 0, 0, 1, 1, 0, 2, 3, 1, 0, 1, 0, 0, 1, 0, 0, 0, 1, 1])\n",
      "2600 total time= 6.946433782577515 time per classification = 0.03473216891288757\n",
      "True\n",
      "False\n",
      "(array([0, 0, 1, 2, 0, 0, 0, 3, 0, 3, 0, 0, 3, 0, 0, 2, 0, 1, 1, 0],\n",
      "      dtype=int64), [2, 1, 0, 1, 1, 0, 1, 1, 1, 3, 0, 1, 0, 1, 1, 0, 1, 1, 1, 0])\n",
      "2600 total time= 7.009446382522583 time per classification = 0.035047231912612914\n",
      "True\n",
      "False\n",
      "(array([4, 2, 1, 1, 2, 2, 2, 0, 0, 2, 2, 2, 2, 0, 0, 4, 0, 4, 2, 2],\n",
      "      dtype=int64), [4, 2, 2, 1, 1, 2, 2, 3, 2, 2, 2, 2, 2, 1, 2, 4, 0, 4, 2, 2])\n",
      "2600 total time= 7.033445358276367 time per classification = 0.03516722679138184\n",
      "True\n",
      "False\n",
      "(array([3, 2, 0, 2, 1, 2, 2, 1, 0, 1, 2, 2, 1, 3, 2, 2, 4, 1, 2, 0],\n",
      "      dtype=int64), [3, 2, 3, 2, 1, 2, 2, 0, 0, 1, 2, 2, 1, 0, 2, 2, 4, 1, 2, 0])\n",
      "2600 total time= 6.9656548500061035 time per classification = 0.034828274250030516\n",
      "True\n",
      "False\n",
      "(array([2, 2, 2, 1, 2, 0, 2, 0, 4, 2, 2, 1, 2, 2, 0, 2, 3, 0, 0, 1],\n",
      "      dtype=int64), [2, 2, 2, 1, 2, 1, 2, 0, 4, 1, 2, 1, 2, 2, 1, 2, 3, 0, 0, 1])\n",
      "2600 total time= 7.140685796737671 time per classification = 0.035703428983688355\n",
      "True\n",
      "False\n",
      "(array([1, 3, 2, 2, 1, 0, 4, 0, 3, 2, 0, 1, 4, 2, 1, 2, 2, 1, 0, 0],\n",
      "      dtype=int64), [1, 0, 2, 2, 1, 0, 4, 3, 3, 2, 0, 1, 4, 2, 1, 2, 2, 1, 0, 3])\n",
      "2600 total time= 7.1266114711761475 time per classification = 0.03563305735588074\n",
      "True\n",
      "False\n",
      "(array([0, 2, 1, 2, 2, 1, 3, 2, 2, 0, 1, 2, 2, 2, 3, 2, 3, 0, 2, 2],\n",
      "      dtype=int64), [1, 2, 1, 2, 2, 1, 2, 2, 2, 0, 1, 2, 2, 2, 1, 2, 1, 0, 2, 4])\n",
      "2600 total time= 7.197113037109375 time per classification = 0.035985565185546874\n",
      "True\n",
      "False\n",
      "(array([2, 3, 1, 0, 0, 3, 3, 2, 2, 2, 1, 0, 3, 2, 2, 1, 2, 4, 0, 3],\n",
      "      dtype=int64), [2, 3, 1, 1, 0, 1, 3, 2, 2, 2, 2, 0, 0, 2, 2, 1, 2, 1, 0, 3])\n",
      "2600 total time= 7.178009748458862 time per classification = 0.03589004874229431\n",
      "True\n",
      "False\n",
      "(array([3, 0, 0, 1, 0, 4, 2, 2, 0, 0, 3, 2, 1, 2, 2, 0, 3, 2, 1, 1],\n",
      "      dtype=int64), [2, 0, 1, 1, 2, 4, 2, 2, 0, 0, 2, 2, 1, 2, 2, 1, 3, 2, 1, 1])\n",
      "2600 total time= 7.086427211761475 time per classification = 0.03543213605880737\n",
      "True\n",
      "False\n",
      "(array([2, 2, 2, 2, 1, 1, 0, 2, 2, 3, 4, 1, 3, 0, 0, 2, 0, 2, 2, 2],\n",
      "      dtype=int64), [2, 2, 2, 2, 1, 1, 0, 2, 2, 3, 4, 1, 2, 0, 0, 3, 1, 2, 2, 2])\n",
      "2600 total time= 8.335592031478882 time per classification = 0.04167796015739441\n",
      "True\n",
      "False\n",
      "(array([0, 3, 2, 2, 2, 4, 0, 0, 3, 1, 4, 2, 2, 0, 2, 2, 0, 2, 4, 3],\n",
      "      dtype=int64), [1, 1, 2, 2, 2, 4, 3, 0, 3, 1, 4, 2, 2, 0, 2, 2, 0, 2, 4, 3])\n",
      "2600 total time= 7.250007629394531 time per classification = 0.036250038146972655\n",
      "True\n",
      "False\n",
      "(array([2, 1, 2, 2, 0, 2, 3, 2, 0, 2, 2, 2, 2, 2, 1, 0, 0, 0, 2, 2],\n",
      "      dtype=int64), [2, 1, 2, 2, 0, 2, 2, 2, 0, 1, 2, 2, 2, 2, 1, 1, 0, 0, 2, 1])\n",
      "2600 total time= 6.988665580749512 time per classification = 0.03494332790374756\n",
      "True\n",
      "False\n",
      "(array([0, 2, 2, 2, 2, 0, 0, 0, 0, 2, 3, 1, 2, 1, 2, 4, 0, 3, 2, 1],\n",
      "      dtype=int64), [0, 2, 2, 2, 2, 0, 0, 0, 1, 2, 3, 1, 2, 1, 2, 1, 0, 1, 2, 1])\n",
      "2600 total time= 7.595407724380493 time per classification = 0.037977038621902465\n",
      "True\n",
      "False\n",
      "(array([0, 1, 2, 2, 2, 3, 1, 2, 0, 4, 2, 2, 2, 2, 0, 2, 3, 2, 0, 2],\n",
      "      dtype=int64), [0, 1, 2, 2, 2, 1, 1, 3, 0, 4, 2, 2, 2, 2, 0, 2, 3, 2, 0, 2])\n",
      "2600 total time= 7.2508628368377686 time per classification = 0.03625431418418884\n",
      "True\n",
      "False\n",
      "(array([2, 2, 2, 2, 0, 1, 1, 2, 1, 2, 0, 4, 0, 2, 1, 2, 2, 1, 0, 3],\n",
      "      dtype=int64), [2, 2, 2, 3, 0, 1, 1, 2, 1, 2, 3, 4, 0, 2, 1, 2, 2, 1, 0, 3])\n",
      "2600 total time= 7.203355312347412 time per classification = 0.03601677656173706\n",
      "True\n",
      "False\n",
      "(array([2, 2, 1, 0, 3, 0, 0, 1, 3, 2, 1, 2, 4, 0, 3, 1, 2, 2, 1, 2],\n",
      "      dtype=int64), [2, 2, 1, 0, 3, 0, 2, 1, 3, 2, 0, 2, 4, 0, 3, 1, 2, 2, 1, 2])\n",
      "2600 total time= 7.3973987102508545 time per classification = 0.036986993551254274\n",
      "True\n",
      "False\n",
      "(array([1, 2, 2, 2, 4, 2, 0, 4, 1, 2, 2, 2, 1, 1, 2, 2, 1, 2, 2, 2],\n",
      "      dtype=int64), [1, 2, 2, 2, 1, 3, 0, 1, 1, 2, 2, 2, 1, 1, 3, 2, 0, 2, 2, 2])\n",
      "2600 total time= 7.02449631690979 time per classification = 0.03512248158454895\n",
      "True\n",
      "False\n",
      "(array([2, 3, 0, 1, 2, 1, 1, 2, 1, 4, 0, 1, 2, 2, 2, 0, 0, 3, 0, 2],\n",
      "      dtype=int64), [2, 3, 0, 1, 2, 1, 1, 2, 1, 4, 0, 1, 2, 2, 2, 0, 0, 1, 0, 2])\n",
      "2600 total time= 7.0026772022247314 time per classification = 0.03501338601112366\n",
      "True\n",
      "False\n",
      "(array([2, 2, 0, 1, 4, 2, 4, 2, 3, 0, 2, 1, 2, 2, 2, 0, 3, 0, 4, 1],\n",
      "      dtype=int64), [3, 2, 1, 1, 4, 2, 4, 2, 3, 0, 2, 1, 2, 2, 2, 0, 3, 0, 1, 2])\n",
      "2600 total time= 6.988600254058838 time per classification = 0.03494300127029419\n",
      "True\n",
      "False\n",
      "(array([0, 2, 3, 0, 1, 3, 0, 2, 0, 2, 2, 1, 2, 0, 1, 2, 1, 2, 2, 2],\n",
      "      dtype=int64), [1, 2, 1, 0, 1, 3, 0, 2, 0, 2, 2, 2, 3, 0, 1, 2, 0, 2, 2, 1])\n",
      "2600 total time= 7.0246663093566895 time per classification = 0.035123331546783446\n",
      "True\n",
      "False\n",
      "(array([1, 2, 2, 3, 2, 2, 3, 0, 2, 2, 0, 4, 2, 0, 0, 2, 2, 1, 2, 2],\n",
      "      dtype=int64), [1, 2, 2, 3, 0, 2, 2, 0, 2, 2, 0, 4, 2, 0, 0, 3, 2, 1, 2, 2])\n",
      "2600 total time= 7.354017019271851 time per classification = 0.036770085096359255\n",
      "True\n",
      "False\n",
      "(array([2, 1, 2, 0, 2, 0, 3, 2, 4, 2, 1, 0, 2, 0, 0, 2, 2, 2, 2, 2],\n",
      "      dtype=int64), [2, 2, 2, 1, 2, 0, 3, 2, 4, 2, 1, 0, 0, 2, 0, 2, 2, 2, 2, 2])\n",
      "2600 total time= 7.27325963973999 time per classification = 0.03636629819869995\n",
      "True\n",
      "False\n",
      "(array([0, 2, 2, 4, 0, 3, 3, 0, 1, 2, 2, 2, 2, 3, 2, 3, 1, 2, 2, 1],\n",
      "      dtype=int64), [0, 2, 2, 4, 0, 3, 1, 0, 1, 2, 2, 2, 0, 2, 2, 3, 1, 2, 2, 1])\n",
      "2600 total time= 7.307713270187378 time per classification = 0.03653856635093689\n",
      "True\n",
      "False\n",
      "(array([1, 2, 0, 1, 2, 1, 0, 2, 2, 0, 2, 0, 2, 3, 2, 2, 4, 2, 2, 0],\n",
      "      dtype=int64), [1, 3, 0, 1, 2, 1, 2, 2, 2, 1, 2, 0, 2, 3, 2, 2, 4, 2, 2, 0])\n",
      "2600 total time= 7.248563766479492 time per classification = 0.03624281883239746\n",
      "True\n",
      "False\n",
      "(array([0, 2, 2, 1, 0, 0, 3, 2, 1, 2, 2, 1, 4, 0, 3, 0, 2, 2, 2, 2],\n",
      "      dtype=int64), [1, 2, 2, 1, 1, 0, 3, 2, 1, 2, 2, 0, 4, 0, 3, 0, 1, 2, 2, 2])\n",
      "2600 total time= 7.05386757850647 time per classification = 0.03526933789253235\n"
     ]
    },
    {
     "name": "stdout",
     "output_type": "stream",
     "text": [
      "True\n",
      "False\n",
      "(array([0, 3, 0, 0, 2, 2, 2, 1, 2, 1, 3, 0, 2, 2, 2, 2, 1, 0, 2, 0],\n",
      "      dtype=int64), [0, 3, 2, 1, 2, 2, 2, 1, 2, 1, 3, 0, 2, 2, 2, 2, 1, 0, 2, 0])\n",
      "2600 total time= 7.059297800064087 time per classification = 0.03529648900032043\n",
      "True\n",
      "False\n",
      "(array([2, 0, 2, 2, 3, 0, 4, 2, 1, 2, 2, 2, 0, 0, 3, 2, 2, 2, 0, 2],\n",
      "      dtype=int64), [2, 1, 0, 2, 3, 0, 4, 2, 1, 2, 2, 2, 0, 0, 2, 2, 2, 2, 0, 2])\n",
      "2600 total time= 7.525165319442749 time per classification = 0.037625826597213745\n",
      "True\n",
      "False\n",
      "(array([3, 4, 0, 1, 2, 2, 2, 3, 3, 2, 0, 0, 4, 2, 2, 0, 2, 2, 1, 1],\n",
      "      dtype=int64), [3, 4, 0, 1, 2, 2, 2, 1, 2, 2, 0, 0, 4, 2, 2, 3, 2, 2, 1, 1])\n",
      "2600 total time= 7.11717414855957 time per classification = 0.03558587074279785\n",
      "True\n",
      "False\n",
      "(array([2, 2, 1, 2, 2, 0, 0, 0, 1, 2, 1, 2, 0, 4, 3, 0, 4, 2, 2, 1],\n",
      "      dtype=int64), [2, 2, 1, 2, 2, 0, 0, 3, 1, 2, 1, 2, 0, 4, 2, 0, 4, 2, 2, 1])\n",
      "2600 total time= 6.942253351211548 time per classification = 0.03471126675605774\n",
      "True\n",
      "False\n",
      "(array([3, 0, 2, 3, 2, 2, 0, 3, 2, 0, 3, 2, 4, 0, 2, 2, 2, 2, 0, 3],\n",
      "      dtype=int64), [3, 1, 1, 3, 2, 2, 1, 2, 2, 0, 3, 2, 4, 0, 1, 2, 2, 2, 0, 3])\n",
      "2600 total time= 7.135420322418213 time per classification = 0.03567710161209106\n",
      "True\n",
      "False\n",
      "(array([1, 2, 2, 2, 2, 2, 1, 0, 4, 3, 1, 2, 2, 1, 2, 2, 0, 1, 2, 0],\n",
      "      dtype=int64), [1, 2, 2, 2, 2, 2, 1, 0, 4, 2, 1, 2, 2, 1, 2, 2, 0, 1, 2, 0])\n",
      "2600 total time= 7.059046506881714 time per classification = 0.03529523253440857\n",
      "True\n",
      "False\n",
      "(array([4, 0, 0, 1, 0, 2, 2, 2, 1, 2, 1, 0, 1, 2, 2, 2, 0, 2, 0, 3],\n",
      "      dtype=int64), [4, 2, 2, 0, 0, 2, 2, 2, 2, 2, 0, 0, 1, 2, 2, 2, 0, 2, 1, 0])\n",
      "2600 total time= 7.349524736404419 time per classification = 0.03674762368202209\n",
      "True\n",
      "False\n",
      "(array([2, 0, 1, 2, 2, 2, 2, 0, 1, 2, 2, 1, 0, 0, 1, 2, 2, 0, 4, 2],\n",
      "      dtype=int64), [3, 0, 1, 2, 2, 2, 2, 0, 0, 2, 2, 1, 3, 2, 1, 2, 2, 1, 4, 2])\n",
      "2600 total time= 7.221543788909912 time per classification = 0.03610771894454956\n",
      "True\n",
      "False\n",
      "(array([2, 2, 0, 3, 3, 3, 0, 1, 2, 2, 0, 0, 4, 0, 0, 2, 2, 0, 2, 2],\n",
      "      dtype=int64), [2, 2, 0, 1, 0, 3, 2, 1, 2, 2, 0, 0, 4, 1, 0, 2, 2, 0, 2, 1])\n",
      "2600 total time= 6.924590349197388 time per classification = 0.03462295174598694\n",
      "True\n",
      "False\n",
      "(array([4, 2, 2, 2, 1, 0, 0, 3, 3, 2, 2, 1, 2, 2, 2, 2, 0, 2, 0, 2],\n",
      "      dtype=int64), [0, 2, 2, 2, 1, 1, 0, 2, 3, 2, 2, 1, 2, 2, 2, 2, 0, 2, 1, 2])\n",
      "2600 total time= 6.965667724609375 time per classification = 0.03482833862304688\n",
      "True\n",
      "False\n",
      "(array([0, 2, 3, 0, 2, 4, 2, 2, 2, 1, 2, 3, 4, 2, 1, 0, 2, 2, 2, 0],\n",
      "      dtype=int64), [0, 2, 3, 0, 2, 4, 2, 2, 2, 1, 2, 3, 1, 2, 1, 0, 2, 2, 2, 0])\n",
      "2600 total time= 7.046715497970581 time per classification = 0.0352335774898529\n",
      "True\n",
      "False\n",
      "(array([1, 2, 2, 2, 2, 2, 3, 3, 0, 2, 2, 0, 2, 1, 4, 1, 1, 0, 0, 1],\n",
      "      dtype=int64), [2, 2, 2, 2, 2, 2, 1, 2, 0, 2, 2, 0, 2, 1, 4, 1, 1, 3, 0, 1])\n",
      "2600 total time= 6.981014728546143 time per classification = 0.03490507364273071\n",
      "True\n",
      "False\n",
      "(array([2, 2, 3, 3, 1, 0, 0, 2, 0, 2, 0, 2, 0, 2, 4, 1, 2, 2, 1, 0],\n",
      "      dtype=int64), [2, 2, 3, 1, 1, 0, 0, 2, 1, 2, 2, 2, 0, 1, 4, 1, 2, 2, 1, 0])\n",
      "2600 total time= 7.292386770248413 time per classification = 0.036461933851242065\n",
      "True\n",
      "False\n",
      "(array([2, 2, 3, 3, 2, 1, 0, 2, 4, 0, 1, 2, 2, 2, 2, 1, 2, 0, 2, 2],\n",
      "      dtype=int64), [1, 2, 3, 1, 2, 1, 3, 2, 4, 0, 1, 2, 2, 2, 2, 1, 3, 0, 2, 2])\n",
      "2600 total time= 7.225053787231445 time per classification = 0.03612526893615722\n",
      "True\n",
      "False\n",
      "(array([2, 2, 0, 1, 3, 4, 1, 2, 2, 2, 2, 0, 3, 1, 0, 1, 2, 2, 0, 0],\n",
      "      dtype=int64), [2, 2, 0, 1, 3, 4, 1, 2, 2, 2, 2, 2, 3, 1, 0, 1, 2, 2, 1, 0])\n",
      "2600 total time= 7.168765544891357 time per classification = 0.03584382772445679\n",
      "True\n",
      "False\n",
      "(array([1, 2, 1, 2, 2, 2, 0, 3, 0, 0, 0, 2, 2, 1, 0, 2, 2, 4, 0, 1],\n",
      "      dtype=int64), [1, 2, 1, 2, 2, 2, 0, 3, 1, 0, 1, 2, 2, 1, 0, 2, 2, 4, 2, 1])\n",
      "2600 total time= 7.211371421813965 time per classification = 0.03605685710906983\n",
      "True\n",
      "False\n",
      "(array([0, 2, 0, 1, 2, 3, 2, 2, 3, 2, 0, 1, 3, 4, 2, 2, 2, 2, 2, 0],\n",
      "      dtype=int64), [2, 2, 0, 1, 2, 3, 2, 2, 3, 2, 0, 1, 3, 4, 2, 1, 2, 2, 2, 2])\n",
      "2600 total time= 7.186277866363525 time per classification = 0.03593138933181763\n",
      "True\n",
      "False\n",
      "(array([2, 2, 4, 2, 2, 1, 3, 4, 0, 2, 1, 2, 2, 4, 2, 0, 0, 2, 1, 2],\n",
      "      dtype=int64), [2, 2, 1, 2, 2, 0, 3, 4, 1, 2, 1, 2, 2, 4, 2, 3, 0, 2, 1, 2])\n",
      "2600 total time= 6.9620702266693115 time per classification = 0.03481035113334656\n",
      "True\n",
      "False\n",
      "(array([4, 1, 1, 3, 1, 0, 2, 2, 1, 2, 2, 0, 2, 2, 0, 2, 2, 0, 3, 0],\n",
      "      dtype=int64), [2, 1, 0, 3, 1, 0, 2, 2, 1, 2, 0, 1, 2, 3, 2, 2, 2, 0, 2, 0])\n",
      "2600 total time= 7.231416463851929 time per classification = 0.03615708231925965\n",
      "True\n",
      "False\n",
      "(array([2, 2, 1, 2, 0, 0, 4, 0, 2, 1, 2, 2, 0, 3, 1, 4, 1, 4, 0, 2],\n",
      "      dtype=int64), [2, 2, 1, 2, 0, 0, 1, 3, 2, 1, 2, 2, 2, 3, 1, 4, 1, 2, 1, 2])\n",
      "2600 total time= 7.046662330627441 time per classification = 0.03523331165313721\n",
      "True\n",
      "False\n",
      "(array([3, 3, 3, 2, 2, 0, 3, 0, 2, 3, 3, 3, 3, 3, 3, 1, 0, 3, 0, 1],\n",
      "      dtype=int64), [2, 3, 3, 2, 3, 3, 3, 3, 3, 3, 3, 3, 3, 3, 3, 3, 0, 3, 0, 1])\n",
      "2600 total time= 6.93107795715332 time per classification = 0.0346553897857666\n",
      "True\n",
      "False\n",
      "(array([3, 3, 3, 2, 3, 3, 3, 2, 3, 1, 3, 3, 1, 3, 3, 3, 3, 3, 0, 3],\n",
      "      dtype=int64), [3, 3, 3, 3, 3, 3, 3, 3, 2, 1, 3, 3, 1, 3, 3, 3, 3, 3, 0, 3])\n",
      "2600 total time= 7.217616558074951 time per classification = 0.03608808279037476\n",
      "True\n",
      "False\n",
      "(array([3, 2, 2, 2, 2, 3, 3, 4, 3, 0, 3, 3, 2, 3, 3, 2, 0, 3, 3, 0],\n",
      "      dtype=int64), [0, 2, 3, 2, 3, 3, 3, 4, 1, 3, 3, 1, 1, 3, 3, 2, 3, 2, 2, 3])\n",
      "2600 total time= 7.2430150508880615 time per classification = 0.03621507525444031\n",
      "True\n",
      "False\n",
      "(array([3, 1, 3, 3, 3, 3, 2, 3, 3, 3, 3, 3, 0, 3, 2, 0, 0, 3, 3, 3],\n",
      "      dtype=int64), [3, 1, 3, 3, 3, 1, 2, 3, 3, 3, 3, 1, 3, 3, 2, 3, 3, 3, 3, 3])\n",
      "2600 total time= 7.229962348937988 time per classification = 0.03614981174468994\n",
      "True\n",
      "False\n",
      "(array([3, 2, 2, 3, 0, 0, 2, 2, 3, 2, 3, 2, 2, 3, 3, 0, 2, 0, 3, 2],\n",
      "      dtype=int64), [2, 2, 3, 3, 3, 0, 3, 2, 3, 2, 3, 2, 2, 3, 3, 1, 3, 3, 3, 3])\n",
      "2600 total time= 7.381887912750244 time per classification = 0.03690943956375122\n",
      "True\n",
      "False\n",
      "(array([0, 2, 3, 2, 2, 3, 4, 3, 3, 3, 0, 1, 2, 2, 3, 3, 3, 2, 3, 3],\n",
      "      dtype=int64), [3, 2, 3, 2, 3, 2, 4, 3, 3, 3, 0, 1, 3, 1, 3, 3, 3, 2, 3, 3])\n",
      "2600 total time= 7.040102958679199 time per classification = 0.035200514793396\n"
     ]
    },
    {
     "ename": "IndexError",
     "evalue": "list index out of range",
     "output_type": "error",
     "traceback": [
      "\u001b[1;31m---------------------------------------------------------------------------\u001b[0m",
      "\u001b[1;31mIndexError\u001b[0m                                Traceback (most recent call last)",
      "\u001b[1;32m<ipython-input-144-4909ba8b37a4>\u001b[0m in \u001b[0;36m<module>\u001b[1;34m\u001b[0m\n\u001b[0;32m      5\u001b[0m     \u001b[0mres_list\u001b[0m \u001b[1;33m=\u001b[0m \u001b[1;33m[\u001b[0m\u001b[1;33m]\u001b[0m\u001b[1;33m\u001b[0m\u001b[1;33m\u001b[0m\u001b[0m\n\u001b[0;32m      6\u001b[0m     \u001b[1;32mfor\u001b[0m \u001b[0mi\u001b[0m \u001b[1;32min\u001b[0m \u001b[0mrange\u001b[0m\u001b[1;33m(\u001b[0m\u001b[1;36m2\u001b[0m\u001b[1;33m)\u001b[0m\u001b[1;33m:\u001b[0m\u001b[1;33m\u001b[0m\u001b[1;33m\u001b[0m\u001b[0m\n\u001b[1;32m----> 7\u001b[1;33m         \u001b[0mres_list\u001b[0m\u001b[1;33m.\u001b[0m\u001b[0mappend\u001b[0m\u001b[1;33m(\u001b[0m\u001b[0mfxc\u001b[0m\u001b[1;33m.\u001b[0m\u001b[0mrun\u001b[0m\u001b[1;33m(\u001b[0m\u001b[0mvals_str\u001b[0m\u001b[1;33m[\u001b[0m\u001b[0mm\u001b[0m\u001b[1;33m+\u001b[0m\u001b[0mp\u001b[0m\u001b[1;33m]\u001b[0m\u001b[1;33m,\u001b[0m \u001b[0mendpoint_id\u001b[0m\u001b[1;33m=\u001b[0m\u001b[0mvmendpoint\u001b[0m\u001b[1;33m,\u001b[0m \u001b[0mfunction_id\u001b[0m\u001b[1;33m=\u001b[0m\u001b[0mgo2_function\u001b[0m\u001b[1;33m)\u001b[0m\u001b[1;33m)\u001b[0m\u001b[1;33m\u001b[0m\u001b[1;33m\u001b[0m\u001b[0m\n\u001b[0m\u001b[0;32m      8\u001b[0m     \u001b[0mwait\u001b[0m \u001b[1;33m=\u001b[0m \u001b[1;32mTrue\u001b[0m\u001b[1;33m\u001b[0m\u001b[1;33m\u001b[0m\u001b[0m\n\u001b[0;32m      9\u001b[0m     \u001b[1;32mwhile\u001b[0m \u001b[0mwait\u001b[0m\u001b[1;33m:\u001b[0m\u001b[1;33m\u001b[0m\u001b[1;33m\u001b[0m\u001b[0m\n",
      "\u001b[1;31mIndexError\u001b[0m: list index out of range"
     ]
    }
   ],
   "source": [
    "vtimes = []\n",
    "m = 0\n",
    "p = 2 # we will repeath this calculation for p = 1, 2, 5 and 10 (divisors of 20)\n",
    "for k in range(130):\n",
    "    t1 = time.time()\n",
    "    res_list = []\n",
    "    for i in range(p):\n",
    "        res_list.append(fxc.run(vals_str[m+i], endpoint_id=vmendpoint, function_id=go2_function))\n",
    "    wait = True\n",
    "    while wait:\n",
    "        wait = False        \n",
    "        time.sleep(3)\n",
    "        for i in range(p):\n",
    "            wait = wait or fxc.get_task(res_list[i])['pending']\n",
    "        print(wait)\n",
    "    t2 = time.time()\n",
    "    print (fxc.get_result(res_list[0])) \n",
    "    print(n,'total time=', t2-t1, 'time per classification =',(t2-t1)/(len(vals[p])*p) ) \n",
    "    vtimes.append((len(vals[p-1]), t2-t1, (t2-t1)/(len(vals[p])*p)))\n",
    "    m+=p\n"
   ]
  },
  {
   "cell_type": "markdown",
   "metadata": {},
   "source": [
    "we have previously run this for p = 1, 5, and 10.\n",
    "below we compute the average time to execute the tasks in parallel"
   ]
  },
  {
   "cell_type": "code",
   "execution_count": 145,
   "metadata": {},
   "outputs": [],
   "source": [
    "total_times_for_2 = vtimes\n",
    "#print(total_times_for_10)\n",
    "#print(total_times_for_5)\n",
    "#print(total_times_for_1)"
   ]
  },
  {
   "cell_type": "code",
   "execution_count": 141,
   "metadata": {},
   "outputs": [
    {
     "name": "stdout",
     "output_type": "stream",
     "text": [
      "17.080786506334942 0.0854039325316747\n"
     ]
    }
   ],
   "source": [
    "l = len(total_times_for_10)\n",
    "s = total_times_for_10\n",
    "ave_time = 0\n",
    "ave_tpi = 0\n",
    "for i in range(l):\n",
    "    ave_time+= s[i][1]\n",
    "    ave_tpi+= s[i][2]\n",
    "ave_time = ave_time/l\n",
    "ave_tpi = ave_tpi/l\n",
    "print(ave_time, ave_tpi)\n",
    "    "
   ]
  },
  {
   "cell_type": "code",
   "execution_count": 142,
   "metadata": {},
   "outputs": [
    {
     "name": "stdout",
     "output_type": "stream",
     "text": [
      "8.604758759339651 0.04302379379669825\n"
     ]
    }
   ],
   "source": [
    "l = len(total_times_for_5)\n",
    "s = total_times_for_5\n",
    "ave_time = 0\n",
    "ave_tpi = 0\n",
    "for i in range(l):\n",
    "    ave_time+= s[i][1]\n",
    "    ave_tpi+= s[i][2]\n",
    "ave_time = ave_time/l\n",
    "ave_tpi = ave_tpi/l\n",
    "print(ave_time, ave_tpi)"
   ]
  },
  {
   "cell_type": "code",
   "execution_count": 143,
   "metadata": {},
   "outputs": [
    {
     "name": "stdout",
     "output_type": "stream",
     "text": [
      "6.719360893964767 0.03359680446982384\n"
     ]
    }
   ],
   "source": [
    "l = len(total_times_for_1)\n",
    "s = total_times_for_1\n",
    "ave_time = 0\n",
    "ave_tpi = 0\n",
    "for i in range(l):\n",
    "    ave_time+= s[i][1]\n",
    "    ave_tpi+= s[i][2]\n",
    "ave_time = ave_time/l\n",
    "ave_tpi = ave_tpi/l\n",
    "print(ave_time, ave_tpi)"
   ]
  },
  {
   "cell_type": "code",
   "execution_count": 146,
   "metadata": {},
   "outputs": [
    {
     "name": "stdout",
     "output_type": "stream",
     "text": [
      "7.170263083775838 0.035851315418879204\n"
     ]
    }
   ],
   "source": [
    "l = len(total_times_for_2)\n",
    "s = total_times_for_2\n",
    "ave_time = 0\n",
    "ave_tpi = 0\n",
    "for i in range(l):\n",
    "    ave_time+= s[i][1]\n",
    "    ave_tpi+= s[i][2]\n",
    "ave_time = ave_time/l\n",
    "ave_tpi = ave_tpi/l\n",
    "print(ave_time, ave_tpi)"
   ]
  },
  {
   "cell_type": "markdown",
   "metadata": {},
   "source": [
    "we see above the averate time for p=1 is 6.72.   for p = 5 all doing the same task in parallel the time is 6.72, but the total work is 5 times that number.   so speedup is total work/time-to-do-it."
   ]
  },
  {
   "cell_type": "code",
   "execution_count": 147,
   "metadata": {},
   "outputs": [
    {
     "data": {
      "text/plain": [
       "3.906976744186047"
      ]
     },
     "execution_count": 147,
     "metadata": {},
     "output_type": "execute_result"
    }
   ],
   "source": [
    "speedup5 = 5*6.72/8.6\n",
    "speedup5"
   ]
  },
  {
   "cell_type": "code",
   "execution_count": 151,
   "metadata": {},
   "outputs": [
    {
     "data": {
      "text/plain": [
       "3.9298245614035086"
      ]
     },
     "execution_count": 151,
     "metadata": {},
     "output_type": "execute_result"
    }
   ],
   "source": [
    "speedup10 = 10*6.72/17.1\n",
    "speedup10"
   ]
  },
  {
   "cell_type": "code",
   "execution_count": 150,
   "metadata": {},
   "outputs": [
    {
     "data": {
      "text/plain": [
       "1.8744769874476988"
      ]
     },
     "execution_count": 150,
     "metadata": {},
     "output_type": "execute_result"
    }
   ],
   "source": [
    "speedup2 = 2*6.72/7.17\n",
    "speedup2"
   ]
  },
  {
   "cell_type": "code",
   "execution_count": 156,
   "metadata": {},
   "outputs": [],
   "source": [
    "import pandas as pd"
   ]
  },
  {
   "cell_type": "code",
   "execution_count": 157,
   "metadata": {},
   "outputs": [],
   "source": [
    "data = {\"number of pods\":[\"1\", \"2\", \"5\", \"10\"],\n",
    "        \"speedup\":[1, 1.8, 3.9, 3.92]\n",
    "        };"
   ]
  },
  {
   "cell_type": "code",
   "execution_count": 158,
   "metadata": {},
   "outputs": [],
   "source": [
    "dataFrame = pd.DataFrame(data=data)"
   ]
  },
  {
   "cell_type": "code",
   "execution_count": 159,
   "metadata": {},
   "outputs": [],
   "source": [
    "import matplotlib.pyplot as plot"
   ]
  },
  {
   "cell_type": "code",
   "execution_count": 178,
   "metadata": {},
   "outputs": [
    {
     "data": {
      "text/plain": [
       "<matplotlib.axes._subplots.AxesSubplot at 0x1e26494ca08>"
      ]
     },
     "execution_count": 178,
     "metadata": {},
     "output_type": "execute_result"
    },
    {
     "data": {
      "image/png": "[encoded data removed]",
      "text/plain": [
       "<Figure size 432x288 with 1 Axes>"
      ]
     },
     "metadata": {
      "needs_background": "light"
     },
     "output_type": "display_data"
    }
   ],
   "source": [
    "dataFrame.plot.bar(x=\"number of pods\", y=\"speedup\",rot=0, title=\"parallel speedup\")"
   ]
  },
  {
   "cell_type": "markdown",
   "metadata": {},
   "source": [
    "given 5 pods we see there is no addition speed up beyond 5.  that is to be expected.  and the fact that one pod is also runing the endpoint as well we see we do not go beyond a speedup of 4."
   ]
  },
  {
   "cell_type": "code",
   "execution_count": null,
   "metadata": {},
   "outputs": [],
   "source": []
  }
 ],
 "metadata": {
  "kernelspec": {
   "display_name": "Python 3",
   "language": "python",
   "name": "python3"
  },
  "language_info": {
   "codemirror_mode": {
    "name": "ipython",
    "version": 3
   },
   "file_extension": ".py",
   "mimetype": "text/x-python",
   "name": "python",
   "nbconvert_exporter": "python",
   "pygments_lexer": "ipython3",
   "version": "3.8.5"
  }
 },
 "nbformat": 4,
 "nbformat_minor": 2
}
