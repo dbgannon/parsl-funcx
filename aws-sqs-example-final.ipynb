{
 "cells": [
  {
   "cell_type": "code",
   "execution_count": 1,
   "metadata": {},
   "outputs": [],
   "source": [
    "import logging\n",
    "import sys\n",
    "import time\n",
    "import boto3\n",
    "from botocore.exceptions import ClientError\n",
    "\n",
    "logger = logging.getLogger(__name__)\n",
    "sqs = boto3.resource('sqs', 'us-west-2')"
   ]
  },
  {
   "cell_type": "markdown",
   "metadata": {},
   "source": [
    "## Stream component composition example\n",
    "In this example we illustrate using funcX to create disgtributed component that can process streams of input messages.  Each component waits for messages on an input queue, processes the messages and passes the results to another component or saves the result to an on-line storage component.   \n",
    "\n",
    "Each component instance consists of an input queue and one or more instances of a funcx invocation associated with a supplied funcx endpoint.   In order to guarentee termination we require that each funcx invocation be limited to a maximum number of messages processed.   We must also require that the input queues have a timeout if no input is seen withing a prescribed amount of time.   So if the max number of invocations is max_num and the input queue timeout is 5 seconds, then the function will terminate within max_num*5 seconds.   We also program the function to have an early exit condition so that they will return if the message \"Stop\" is recieved.   \n",
    "\n",
    "In this example we will use AWS Simple Queue Service for the queues (because they have the require timeout-on-empty-queue property).  We have two components:\n",
    "\n",
    "1. A Front-end component that recieves messages and processes them in FIFO order.  If the message is \"forward\" it passes the message to a Back-end component.   Otherwise if the message is not \"Stop\", it processes message and stores the result in a table.  The table we use is in Azure Storage Service becuase it is cheap and reliable.  \n",
    "\n",
    "2. The Back-end component consists of one or more instances of a backend processor functions which pull messages from the input queue for that component.   We can control throughput of the back-end component by increasing or decreasing the numbere of functions servicing the queue.   When the back-end processing functions complete and execution they store the result in the queue.\n"
   ]
  },
  {
   "attachments": {
    "image-2.png": {
     "image/png": "[encoded data removed]"
    }
   },
   "cell_type": "markdown",
   "metadata": {},
   "source": [
    "![image-2.png](attachment:image-2.png)"
   ]
  },
  {
   "cell_type": "markdown",
   "metadata": {},
   "source": [
    "## AWS Simple Queue Service Management Function\n",
    "\n",
    "We copy several SQS helper functions taken from the SQS tutorial samples.  We are creating FIFO queues without content-based deduplication.   "
   ]
  },
  {
   "cell_type": "code",
   "execution_count": 2,
   "metadata": {},
   "outputs": [],
   "source": [
    "def create_queue(name, attributes=None):\n",
    "    \"\"\"\n",
    "    Creates an Amazon SQS queue.\n",
    "\n",
    "    Usage is shown in usage_demo at the end of this module.\n",
    "\n",
    "    :param name: The name of the queue. This is part of the URL assigned to the queue.\n",
    "    :param attributes: The attributes of the queue, such as maximum message size or\n",
    "                       whether it's a FIFO queue.\n",
    "    :return: A Queue object that contains metadata about the queue and that can be used\n",
    "             to perform queue operations like sending and receiving messages.\n",
    "    \"\"\"\n",
    "    if not attributes:\n",
    "        attributes = {'FifoQueue':'true', 'ContentBasedDeduplication':'false'}\n",
    "\n",
    "    try:\n",
    "        queue = sqs.create_queue(\n",
    "            QueueName=name,\n",
    "            Attributes=attributes\n",
    "        )\n",
    "        logger.info(\"Created queue '%s' with URL=%s\", name, queue.url)\n",
    "    except ClientError as error:\n",
    "        logger.exception(\"Couldn't create queue named '%s'.\", name)\n",
    "        raise error\n",
    "    else:\n",
    "        return queue\n"
   ]
  },
  {
   "cell_type": "code",
   "execution_count": 3,
   "metadata": {},
   "outputs": [],
   "source": [
    "def get_queue(name):\n",
    "    \"\"\"\n",
    "    Gets an SQS queue by name.\n",
    "\n",
    "    Usage is shown in usage_demo at the end of this module.\n",
    "\n",
    "    :param name: The name that was used to create the queue.\n",
    "    :return: A Queue object.\n",
    "    \"\"\"\n",
    "    try:\n",
    "        queue = sqs.get_queue_by_name(QueueName=name)\n",
    "        logger.info(\"Got queue '%s' with URL=%s\", name, queue.url)\n",
    "    except ClientError as error:\n",
    "        logger.exception(\"Couldn't get queue named %s.\", name)\n",
    "        raise error\n",
    "    else:\n",
    "        return queue"
   ]
  },
  {
   "cell_type": "code",
   "execution_count": 4,
   "metadata": {},
   "outputs": [],
   "source": [
    "def remove_queue(queue):\n",
    "    \"\"\"\n",
    "    Removes an SQS queue. When run against an AWS account, it can take up to\n",
    "    60 seconds before the queue is actually deleted.\n",
    "\n",
    "    Usage is shown in usage_demo at the end of this module.\n",
    "\n",
    "    :param queue: The queue to delete.\n",
    "    :return: None\n",
    "    \"\"\"\n",
    "    try:\n",
    "        queue.delete()\n",
    "        logger.info(\"Deleted queue with URL=%s.\", queue.url)\n",
    "    except ClientError as error:\n",
    "        logger.exception(\"Couldn't delete queue with URL=%s!\", queue.url)\n",
    "        raise error\n"
   ]
  },
  {
   "cell_type": "code",
   "execution_count": 5,
   "metadata": {},
   "outputs": [],
   "source": [
    "def send_message(queue, message_body, message_attributes=None):\n",
    "    \"\"\"\n",
    "    Send a message to an Amazon SQS queue.\n",
    "\n",
    "    Usage is shown in usage_demo at the end of this module.\n",
    "\n",
    "    :param queue: The queue that receives the message.\n",
    "    :param message_body: The body text of the message.\n",
    "    :param message_attributes: Custom attributes of the message. These are key-value\n",
    "                               pairs that can be whatever you want.\n",
    "    :return: The response from SQS that contains the assigned message ID.\n",
    "    \"\"\"\n",
    "    if not message_attributes:\n",
    "        message_attributes = {}\n",
    "\n",
    "    try:\n",
    "        response = queue.send_message(\n",
    "            MessageBody=message_body,\n",
    "            MessageAttributes=message_attributes,\n",
    "            MessageGroupId='funcx',\n",
    "            MessageDeduplicationId=str(time.time())\n",
    "            \n",
    "        )\n",
    "    except ClientError as error:\n",
    "        logger.exception(\"Send message failed: %s\", message_body)\n",
    "        raise error\n",
    "    else:\n",
    "        return response"
   ]
  },
  {
   "cell_type": "markdown",
   "metadata": {},
   "source": [
    "## The FuncX part of the experiment starts here."
   ]
  },
  {
   "cell_type": "code",
   "execution_count": 6,
   "metadata": {},
   "outputs": [],
   "source": [
    "from funcx.sdk.client import FuncXClient\n",
    "import time\n",
    "fxc = FuncXClient()"
   ]
  },
  {
   "cell_type": "markdown",
   "metadata": {},
   "source": [
    "We will use two remote resources.  One is the small jetbot and the other is a kubernetes cluster.  these have been changed to proctect these resources"
   ]
  },
  {
   "cell_type": "code",
   "execution_count": 7,
   "metadata": {},
   "outputs": [],
   "source": [
    "epjb = 'a7c14a88-xxxx-41ae-963f-7b419e29e6dd' #jetbot\n",
    "ep = '6cd44687-762b-xxxx-ac07-1918a3cddecd' #k8s pc"
   ]
  },
  {
   "cell_type": "markdown",
   "metadata": {},
   "source": [
    "To run this you will need a azure storage acount.  don't worry.  you can get a free account.  you will also need an aws account.  these are both very low cost services."
   ]
  },
  {
   "cell_type": "code",
   "execution_count": 8,
   "metadata": {},
   "outputs": [],
   "source": [
    "accnts = {\"az_name\":\"parslstorage\",\n",
    "          \"az_key\":\"your-azure-storage-key-here\",\n",
    "          'aw_id':\"your-aws-id\",\n",
    "          'aw_sec_key':\"your-aws-secret-key\"}"
   ]
  },
  {
   "cell_type": "markdown",
   "metadata": {},
   "source": [
    "### The back-end functions\n",
    "The back-end will listen for data on an input queue, then do  some work and then publish the result in a table in the cloud.  We use Azure storage table for that.  \n",
    "\n",
    "Back-end takes the name of the input queue,  the maximum nuber of messages it should consume.  Recall that if it does not see anything in the queue for five seconds the receive_messsage queue call will time out.  So the longest this function will run is max_msgs\\*5 seconds.  If the function gets a \"Stop\" action signal it returns.  Otherwises it does the work and pushes the result to the queue. \n",
    "\n",
    "The listernID parameter is a string to identify this listener.  Becuase the function executes remotely we need to pass along some account permisions for the table and the queue service.  "
   ]
  },
  {
   "cell_type": "markdown",
   "metadata": {},
   "source": [
    "#### the message format\n",
    "all the messages are simple python dictionaries with one required key \"action\".  the messages are passed as string and we just JSON to decode them.  The function decode_msg(m) decodes and deletes the mssage from the queue.  "
   ]
  },
  {
   "cell_type": "code",
   "execution_count": 9,
   "metadata": {},
   "outputs": [],
   "source": [
    "def back_end(queue_in, table_name, num_msgs, listenerID, accnts):\n",
    "    import boto3\n",
    "    from botocore.exceptions import ClientError\n",
    "    import time \n",
    "    from azure.data.tables import TableClient\n",
    "    from random import random\n",
    "    import json\n",
    "    \n",
    "    #first set up azure table to record results\n",
    "    constr = \"DefaultEndpointsProtocol=https;AccountName=%s;AccountKey=%s\"%(accnts['az_name'],accnts['az_key'])\n",
    "    table = TableClient.from_connection_string(conn_str=constr, table_name=table_name) #\"funcxtable\")\n",
    "    #next get the fifo queue from AWS based on the name of the queue\n",
    "    \n",
    "    sqs = boto3.resource('sqs', 'us-west-2',    \n",
    "        aws_access_key_id=accnts['aw_id'],\n",
    "        aws_secret_access_key=accnts['aw_sec_key'])\n",
    "    q_in = sqs.get_queue_by_name(QueueName=queue_in)\n",
    "    \n",
    "    def receive_message(queue, max_number, wait_time):\n",
    "        try:\n",
    "            messages = queue.receive_messages(\n",
    "                MessageAttributeNames=['All'],\n",
    "                MaxNumberOfMessages=max_number,\n",
    "                WaitTimeSeconds=wait_time\n",
    "            )\n",
    "        except ClientError as error:\n",
    "            raise error\n",
    "        else:\n",
    "            return messages\n",
    "    \n",
    "    def send_message(queue, message_body):\n",
    "        try:\n",
    "            response = queue.send_message(\n",
    "                MessageBody=message_body,\n",
    "                MessageAttributes={},\n",
    "                MessageGroupId='funcx',\n",
    "                MessageDeduplicationId=str(time.time())\n",
    "\n",
    "            )\n",
    "        except ClientError as error:\n",
    "            logger.exception(\"Send message failed: %s\", message_body)\n",
    "            raise error\n",
    "        else:\n",
    "            return response\n",
    "        \n",
    "    def save_data_in_table(listenerID, key, t, record):\n",
    "        my_entity = {'PartitionKey':listenerID,'RowKey':str(key), 'time':str(t), 'text':record}\n",
    "        #print(my_entity)\n",
    "        entity = table.create_entity(entity=my_entity)\n",
    "        #print(entity)\n",
    "    \n",
    "    def decode_msg(m):\n",
    "        bod = m[0].body\n",
    "        m[0].delete()\n",
    "        action = ''\n",
    "        try:\n",
    "            action = json.loads(bod)['action']\n",
    "        except:\n",
    "            action = 'bad msg'\n",
    "        return action\n",
    "\n",
    "    def compute_pi(numpoints):\n",
    "        inside = 0\n",
    "        for j in range(numpoints):\n",
    "            x, y = random(), random()  # Drop a random point in the box.\n",
    "            if x**2 + y**2 < 1:        # Count points within the circle.\n",
    "                inside += 1\n",
    "        pi = inside*4 / numpoints\n",
    "        return pi\n",
    "\n",
    "    # the following look will pull at most num_msgs from the queue\n",
    "    #if the queue is empty it will wait 5 seconds and time out\n",
    "    #try again.\n",
    "    msgs = []\n",
    "    msgkey = 1\n",
    "    action = ''\n",
    "    for i in range(num_msgs):\n",
    "        t0 = time.time()\n",
    "        m = receive_message(q_in, 1, 5)\n",
    "        # m should be a list of length 1 unless the queue is \n",
    "        # empty and it times out after 5\n",
    "        if m != []:\n",
    "            action = decode_msg(m)\n",
    "            if action == 'Stop':\n",
    "                return msgs\n",
    "            else:\n",
    "                # now worthless computaiton\n",
    "                pi = compute_pi(10**7)\n",
    "             \n",
    "                #now save in table for later analysis\n",
    "                save_data_in_table(listenerID, msgkey, t0, action+' '+str(pi))\n",
    "                msgkey += 1\n",
    "            msgs.append((action, t0))\n",
    "    return msgs"
   ]
  },
  {
   "cell_type": "markdown",
   "metadata": {},
   "source": [
    "### The Front-end function\n",
    "The front-end takes input messages from queue_in.  Then if the action in the mssage is not \"Stop\" it either does a local computation and places it in the table or, if it sees the action \"forward\" it sends the message to queue_out for further processing.   num_msges, ListenerID and accnts are as above."
   ]
  },
  {
   "cell_type": "code",
   "execution_count": 10,
   "metadata": {},
   "outputs": [],
   "source": [
    "def front_end( queue_in, queue_out, num_msgs, listenerID, accnts):\n",
    "    import boto3\n",
    "    from botocore.exceptions import ClientError\n",
    "    import time \n",
    "    from azure.data.tables import TableClient\n",
    "    from random import random\n",
    "    import json\n",
    "    \n",
    "    #first set up azure table to record results\n",
    "    constr = \"DefaultEndpointsProtocol=https;AccountName=%s;AccountKey=%s\"%(accnts['az_name'],accnts['az_key'])\n",
    "    table = TableClient.from_connection_string(conn_str=constr, table_name=\"funcxtable\")\n",
    "    #next get the fifo queue from AWS based on the name of the queue\n",
    "    \n",
    "    #We also need helper functions for taking messages out of the queues, putting them in the queues, \n",
    "    #putting data in the table and decoding the messages\n",
    "    sqs = boto3.resource('sqs', 'us-west-2',    \n",
    "        aws_access_key_id=accnts['aw_id'],\n",
    "        aws_secret_access_key=accnts['aw_sec_key'])\n",
    "    q_in = sqs.get_queue_by_name(QueueName=queue_in)\n",
    "    q_out= sqs.get_queue_by_name(QueueName=queue_out)\n",
    "    \n",
    "    def receive_message(queue, max_number, wait_time):\n",
    "        try:\n",
    "            messages = queue.receive_messages(\n",
    "                MessageAttributeNames=['All'],\n",
    "                MaxNumberOfMessages=max_number,\n",
    "                WaitTimeSeconds=wait_time\n",
    "            )\n",
    "        except ClientError as error:\n",
    "            raise error\n",
    "        else:\n",
    "            return messages\n",
    "    \n",
    "    def send_message(queue, message_body):\n",
    "        try:\n",
    "            response = queue.send_message(\n",
    "                MessageBody=message_body,\n",
    "                MessageAttributes={},\n",
    "                MessageGroupId='funcx',\n",
    "                MessageDeduplicationId=str(time.time())\n",
    "\n",
    "            )\n",
    "        except ClientError as error:\n",
    "            logger.exception(\"Send message failed: %s\", message_body)\n",
    "            raise error\n",
    "        else:\n",
    "            return response\n",
    "        \n",
    "    def save_data_in_table(listenerID, key, t, record):\n",
    "        my_entity = {'PartitionKey':listenerID,'RowKey':str(key), 'time':str(t), 'text':record}\n",
    "        #print(my_entity)\n",
    "        entity = table.create_entity(entity=my_entity)\n",
    "        #print(entity)\n",
    "    \n",
    "    def decode_msg(m):\n",
    "        bod = m[0].body\n",
    "        m[0].delete()\n",
    "        action = ''\n",
    "        try:\n",
    "            action = json.loads(bod)['action']\n",
    "        except:\n",
    "            action = 'bad msg'\n",
    "        return action, bod\n",
    "\n",
    "    def compute_pi(numpoints):\n",
    "        inside = 0\n",
    "        for j in range(numpoints):\n",
    "            x, y = random(), random()  # Drop a random point in the box.\n",
    "            if x**2 + y**2 < 1:        # Count points within the circle.\n",
    "                inside += 1\n",
    "        pi = inside*4 / numpoints\n",
    "        return pi\n",
    "\n",
    "    # the following look will pull at most num_msgs from the queue\n",
    "    #if the queue is empty it will wait 5 seconds and time out\n",
    "    #try again for a total of num_msgs attempts.\n",
    "    msgs = []\n",
    "    msgkey = 1\n",
    "    action = ''\n",
    "    for i in range(num_msgs):\n",
    "        t0 = time.time()\n",
    "        m = receive_message(q_in, 1, 5)\n",
    "        # m should be a list of length 1 unless the queue is \n",
    "        # empty and it times out after 5 sec\n",
    "        if m != []:\n",
    "            action, body = decode_msg(m)\n",
    "            if action == 'Stop':\n",
    "                break\n",
    "            elif action == 'forward':\n",
    "                send_message(q_out, '{\"action\":\"dopi\", \"key\":%s}'%str(msgkey))\n",
    "            else:\n",
    "                # now worthless computaiton\n",
    "                pi = compute_pi(10**7)\n",
    "             \n",
    "                #now save in table for later analysis\n",
    "                save_data_in_table(listenerID, msgkey, t0, action+'  '+str(pi))\n",
    "                msgkey += 1\n",
    "            msgs.append((action, t0))\n",
    "    #the following will stop up to 2 back-end functions.  not very elegant.\n",
    "    send_message(q_out, '{\"action\":\"Stop\"}')\n",
    "    send_message(q_out, '{\"action\":\"Stop\"}')\n",
    "\n",
    "    return msgs"
   ]
  },
  {
   "cell_type": "code",
   "execution_count": 11,
   "metadata": {
    "scrolled": true
   },
   "outputs": [],
   "source": [
    "## we previously invoked create queue so we don't need to do it again.\n",
    "#create_queue('funcx-queue2.fifo')\n",
    "#create_queue('funcx-queue1.fifo')\n",
    "\n",
    "q1 = get_queue('funcx-queue1.fifo')\n",
    "q2 = get_queue('funcx-queue2.fifo')"
   ]
  },
  {
   "cell_type": "markdown",
   "metadata": {},
   "source": [
    "The following look prepositions 20 messages in the input queue for the front end.  it also adds a stop signal at the end. "
   ]
  },
  {
   "cell_type": "code",
   "execution_count": 29,
   "metadata": {
    "scrolled": true
   },
   "outputs": [
    {
     "data": {
      "text/plain": [
       "{'MD5OfMessageBody': '09536f92f0e07252f5018a048be75129',\n",
       " 'MessageId': '50f0649a-4acb-4662-ba57-c444d95b2d9f',\n",
       " 'SequenceNumber': '18858584763188976128',\n",
       " 'ResponseMetadata': {'RequestId': '2005c431-c165-5682-9eff-9c6c6110dff8',\n",
       "  'HTTPStatusCode': 200,\n",
       "  'HTTPHeaders': {'x-amzn-requestid': '2005c431-c165-5682-9eff-9c6c6110dff8',\n",
       "   'date': 'Wed, 23 Dec 2020 19:44:53 GMT',\n",
       "   'content-type': 'text/xml',\n",
       "   'content-length': '431'},\n",
       "  'RetryAttempts': 0}}"
      ]
     },
     "execution_count": 29,
     "metadata": {},
     "output_type": "execute_result"
    }
   ],
   "source": [
    "for i in range(10):\n",
    "    send_message(q1, '{\"action\":\"dopi%s\"}'%str(i+13))\n",
    "    time.sleep(0.2)\n",
    "    send_message(q1, '{\"action\":\"forward\", \"index\":%s}'%str(i+13))\n",
    "    time.sleep(0.2)\n",
    "send_message(q1, '{\"action\":\"Stop\"}')\n"
   ]
  },
  {
   "cell_type": "code",
   "execution_count": 13,
   "metadata": {},
   "outputs": [],
   "source": [
    "func_front = fxc.register_function(front_end)\n",
    "func_back = fxc.register_function(back_end)"
   ]
  },
  {
   "cell_type": "markdown",
   "metadata": {},
   "source": [
    "### Creating the component instances\n",
    "The following simple wrapper creates an instance of the components.   it is rather simple minded.  parameters are:\n",
    "\n",
    "1. the base name  of the component (like \"Front\" or \"Back\")\n",
    "2. the name of the input queue for this component.\n",
    "3. the output name which could be another queue name or the table name.\n",
    "4. repl_factor: the number of function instances of the type of func_id to create\n",
    "5. the end_point that will be the host service for the function instances\n",
    "6. func_id the uuid of the function resulting from funcx registration as above"
   ]
  },
  {
   "cell_type": "code",
   "execution_count": 30,
   "metadata": {},
   "outputs": [],
   "source": [
    "def launch_component(component_name, input_name, output_name, repl_factor, end_point, func_id):\n",
    "    result_list = []\n",
    "    for i in range(repl_factor):\n",
    "        #                queue_in, table_name, num_msgs, listenerID, accnts)\n",
    "        res = fxc.run(input_name, output_name, 50, component_name+'_'+str(i), accnts, endpoint_id=end_point, function_id=func_id )\n",
    "        result_list.append(res)\n",
    "    return input_name, result_list"
   ]
  },
  {
   "cell_type": "code",
   "execution_count": 31,
   "metadata": {},
   "outputs": [],
   "source": [
    "front_res = launch_component('Front', 'funcx-queue1.fifo','funcx-queue2.fifo', 1, epjb, func_front)"
   ]
  },
  {
   "cell_type": "code",
   "execution_count": 32,
   "metadata": {
    "scrolled": true
   },
   "outputs": [
    {
     "data": {
      "text/plain": [
       "('funcx-queue1.fifo', ['2b24b6ef-8a6a-4e2c-9cd7-752173abd568'])"
      ]
     },
     "execution_count": 32,
     "metadata": {},
     "output_type": "execute_result"
    }
   ],
   "source": [
    "front_res"
   ]
  },
  {
   "cell_type": "code",
   "execution_count": 34,
   "metadata": {},
   "outputs": [],
   "source": [
    "back_res = launch_component('Back_', 'funcx-queue2.fifo', \"funcxtable\", 2, ep, func_back)"
   ]
  },
  {
   "cell_type": "markdown",
   "metadata": {},
   "source": [
    "The following is the output at the the execution "
   ]
  },
  {
   "cell_type": "code",
   "execution_count": 38,
   "metadata": {},
   "outputs": [
    {
     "data": {
      "text/plain": [
       "{'pending': False,\n",
       " 'status': 'success',\n",
       " 'result': [('dopi13', 1608752704.406051),\n",
       "  ('forward', 1608752722.0790133),\n",
       "  ('dopi14', 1608752722.2293665),\n",
       "  ('forward', 1608752739.3932536),\n",
       "  ('dopi15', 1608752739.5322533),\n",
       "  ('forward', 1608752755.804505),\n",
       "  ('dopi16', 1608752755.954178),\n",
       "  ('forward', 1608752772.5702667),\n",
       "  ('dopi17', 1608752772.7165003),\n",
       "  ('forward', 1608752788.8295236),\n",
       "  ('dopi18', 1608752788.9781418),\n",
       "  ('forward', 1608752805.7692058),\n",
       "  ('dopi19', 1608752805.9294229),\n",
       "  ('forward', 1608752822.7602978),\n",
       "  ('dopi20', 1608752822.8924305),\n",
       "  ('forward', 1608752840.1775823),\n",
       "  ('dopi21', 1608752840.4072325),\n",
       "  ('forward', 1608752857.2812035),\n",
       "  ('dopi22', 1608752857.4195151),\n",
       "  ('forward', 1608752872.9318535)],\n",
       " 'completion_t': '1608752873.5044572'}"
      ]
     },
     "execution_count": 38,
     "metadata": {},
     "output_type": "execute_result"
    }
   ],
   "source": [
    "fxc.get_task(front_res[1][0])"
   ]
  },
  {
   "cell_type": "code",
   "execution_count": 39,
   "metadata": {},
   "outputs": [
    {
     "data": {
      "text/plain": [
       "('funcx-queue2.fifo',\n",
       " ['c81377f9-45ea-478f-bc36-8cdccd621d5c',\n",
       "  '8fbb8b56-fc64-4319-8895-33ff14e5d679'])"
      ]
     },
     "execution_count": 39,
     "metadata": {},
     "output_type": "execute_result"
    }
   ],
   "source": [
    "back_res"
   ]
  },
  {
   "cell_type": "code",
   "execution_count": 41,
   "metadata": {},
   "outputs": [
    {
     "data": {
      "text/plain": [
       "{'pending': False,\n",
       " 'status': 'success',\n",
       " 'result': [('dopi', 1608752719.0520577),\n",
       "  ('dopi', 1608752735.008718),\n",
       "  ('dopi', 1608752751.9321816),\n",
       "  ('dopi', 1608752768.4061282)],\n",
       " 'completion_t': '1608752873.4812376'}"
      ]
     },
     "execution_count": 41,
     "metadata": {},
     "output_type": "execute_result"
    }
   ],
   "source": [
    "fxc.get_task(back_res[1][0])"
   ]
  },
  {
   "cell_type": "code",
   "execution_count": 50,
   "metadata": {},
   "outputs": [
    {
     "data": {
      "text/plain": [
       "{'pending': False,\n",
       " 'status': 'success',\n",
       " 'result': [('dopi', 1608752785.0623498),\n",
       "  ('dopi', 1608752801.7677984),\n",
       "  ('dopi', 1608752818.4912758),\n",
       "  ('dopi', 1608752840.4845934),\n",
       "  ('dopi', 1608752853.0572288),\n",
       "  ('dopi', 1608752869.953129)],\n",
       " 'completion_t': '1608752875.1620994'}"
      ]
     },
     "execution_count": 50,
     "metadata": {},
     "output_type": "execute_result"
    }
   ],
   "source": [
    "fxc.get_task(back_res[1][1])"
   ]
  },
  {
   "cell_type": "code",
   "execution_count": 37,
   "metadata": {},
   "outputs": [],
   "source": [
    "#send a final stop message to q2.  "
   ]
  },
  {
   "cell_type": "markdown",
   "metadata": {},
   "source": [
    "The following image shows the table content in the azure storage explorer at the end of the execution.  We show below how to pull this table into the notebook and render it as a pandas dataframe."
   ]
  },
  {
   "attachments": {
    "image-2.png": {
     "image/png": "[encoded data removed]"
    }
   },
   "cell_type": "markdown",
   "metadata": {},
   "source": [
    "![image-2.png](attachment:image-2.png)"
   ]
  },
  {
   "cell_type": "markdown",
   "metadata": {},
   "source": [
    "##### An easy way to clear any leftover items in the queues"
   ]
  },
  {
   "cell_type": "code",
   "execution_count": 27,
   "metadata": {},
   "outputs": [
    {
     "name": "stdout",
     "output_type": "stream",
     "text": [
      "{\"action\":\"Stop\"}\n"
     ]
    }
   ],
   "source": [
    "def pull_item_from_queue(queue, max_number, wait_time):\n",
    "    try:\n",
    "        messages = queue.receive_messages(\n",
    "            MessageAttributeNames=['All'],\n",
    "            MaxNumberOfMessages=max_number,\n",
    "            WaitTimeSeconds=wait_time\n",
    "        )\n",
    "    except ClientError as error:\n",
    "        raise error\n",
    "    else:\n",
    "        return messages\n",
    "    return messages\n",
    "   \n",
    "for i in range(2):\n",
    "    m =pull_item_from_queue(q2, 1, 2)\n",
    "    if m != []:\n",
    "        print( m[0].body)\n",
    "        m[0].delete()\n",
    "        "
   ]
  },
  {
   "cell_type": "markdown",
   "metadata": {},
   "source": [
    "##### Pull data from the table\n",
    "this pull the data from the table, delete the data in the table and then generates a pandas data frame and saves the data to a file."
   ]
  },
  {
   "cell_type": "code",
   "execution_count": 42,
   "metadata": {},
   "outputs": [],
   "source": [
    "from azure.data.tables import TableClient\n",
    "constr = \"DefaultEndpointsProtocol=https;AccountName=%s;AccountKey=%s\"%(accnts['az_name'],accnts['az_key'])\n",
    "table = TableClient.from_connection_string(conn_str=constr, table_name=\"funcxtable\")\n"
   ]
  },
  {
   "cell_type": "code",
   "execution_count": 43,
   "metadata": {},
   "outputs": [],
   "source": [
    "times = []\n",
    "for x in table.list_entities():\n",
    "    times.append(x)\n",
    "    #print(x)\n",
    "    table.delete_entity(x['PartitionKey'],x['RowKey'])"
   ]
  },
  {
   "cell_type": "code",
   "execution_count": 44,
   "metadata": {},
   "outputs": [],
   "source": [
    "import pandas as pd"
   ]
  },
  {
   "cell_type": "code",
   "execution_count": 45,
   "metadata": {},
   "outputs": [],
   "source": [
    "timesfor1 = pd.DataFrame(times)"
   ]
  },
  {
   "cell_type": "code",
   "execution_count": 46,
   "metadata": {},
   "outputs": [],
   "source": [
    "gfg_csv_data = timesfor1.to_csv('timefor1.csv', index = True)"
   ]
  },
  {
   "cell_type": "code",
   "execution_count": 49,
   "metadata": {},
   "outputs": [
    {
     "data": {
      "text/html": [
       "<div>\n",
       "<style scoped>\n",
       "    .dataframe tbody tr th:only-of-type {\n",
       "        vertical-align: middle;\n",
       "    }\n",
       "\n",
       "    .dataframe tbody tr th {\n",
       "        vertical-align: top;\n",
       "    }\n",
       "\n",
       "    .dataframe thead th {\n",
       "        text-align: right;\n",
       "    }\n",
       "</style>\n",
       "<table border=\"1\" class=\"dataframe\">\n",
       "  <thead>\n",
       "    <tr style=\"text-align: right;\">\n",
       "      <th></th>\n",
       "      <th>PartitionKey</th>\n",
       "      <th>RowKey</th>\n",
       "      <th>time</th>\n",
       "      <th>text</th>\n",
       "      <th>_metadata</th>\n",
       "    </tr>\n",
       "  </thead>\n",
       "  <tbody>\n",
       "    <tr>\n",
       "      <th>10</th>\n",
       "      <td>Front_0</td>\n",
       "      <td>1</td>\n",
       "      <td>1608752704.406051</td>\n",
       "      <td>dopi13  3.1416344</td>\n",
       "      <td>{'etag': 'W/\"datetime'2020-12-23T19%3A45%3A22....</td>\n",
       "    </tr>\n",
       "    <tr>\n",
       "      <th>0</th>\n",
       "      <td>Back__0</td>\n",
       "      <td>1</td>\n",
       "      <td>1608752719.0520577</td>\n",
       "      <td>dopi 3.1417256</td>\n",
       "      <td>{'etag': 'W/\"datetime'2020-12-23T19%3A45%3A24....</td>\n",
       "    </tr>\n",
       "    <tr>\n",
       "      <th>12</th>\n",
       "      <td>Front_0</td>\n",
       "      <td>2</td>\n",
       "      <td>1608752722.2293665</td>\n",
       "      <td>dopi14  3.1421384</td>\n",
       "      <td>{'etag': 'W/\"datetime'2020-12-23T19%3A45%3A39....</td>\n",
       "    </tr>\n",
       "    <tr>\n",
       "      <th>1</th>\n",
       "      <td>Back__0</td>\n",
       "      <td>2</td>\n",
       "      <td>1608752735.008718</td>\n",
       "      <td>dopi 3.1418416</td>\n",
       "      <td>{'etag': 'W/\"datetime'2020-12-23T19%3A45%3A41....</td>\n",
       "    </tr>\n",
       "    <tr>\n",
       "      <th>13</th>\n",
       "      <td>Front_0</td>\n",
       "      <td>3</td>\n",
       "      <td>1608752739.5322533</td>\n",
       "      <td>dopi15  3.141416</td>\n",
       "      <td>{'etag': 'W/\"datetime'2020-12-23T19%3A45%3A55....</td>\n",
       "    </tr>\n",
       "    <tr>\n",
       "      <th>2</th>\n",
       "      <td>Back__0</td>\n",
       "      <td>3</td>\n",
       "      <td>1608752751.9321816</td>\n",
       "      <td>dopi 3.1415844</td>\n",
       "      <td>{'etag': 'W/\"datetime'2020-12-23T19%3A45%3A57....</td>\n",
       "    </tr>\n",
       "    <tr>\n",
       "      <th>14</th>\n",
       "      <td>Front_0</td>\n",
       "      <td>4</td>\n",
       "      <td>1608752755.954178</td>\n",
       "      <td>dopi16  3.1411736</td>\n",
       "      <td>{'etag': 'W/\"datetime'2020-12-23T19%3A46%3A12....</td>\n",
       "    </tr>\n",
       "    <tr>\n",
       "      <th>3</th>\n",
       "      <td>Back__0</td>\n",
       "      <td>4</td>\n",
       "      <td>1608752768.4061282</td>\n",
       "      <td>dopi 3.1417416</td>\n",
       "      <td>{'etag': 'W/\"datetime'2020-12-23T19%3A46%3A14....</td>\n",
       "    </tr>\n",
       "    <tr>\n",
       "      <th>15</th>\n",
       "      <td>Front_0</td>\n",
       "      <td>5</td>\n",
       "      <td>1608752772.7165003</td>\n",
       "      <td>dopi17  3.14148</td>\n",
       "      <td>{'etag': 'W/\"datetime'2020-12-23T19%3A46%3A28....</td>\n",
       "    </tr>\n",
       "    <tr>\n",
       "      <th>4</th>\n",
       "      <td>Back__1</td>\n",
       "      <td>1</td>\n",
       "      <td>1608752785.0623498</td>\n",
       "      <td>dopi 3.1410804</td>\n",
       "      <td>{'etag': 'W/\"datetime'2020-12-23T19%3A46%3A31....</td>\n",
       "    </tr>\n",
       "    <tr>\n",
       "      <th>16</th>\n",
       "      <td>Front_0</td>\n",
       "      <td>6</td>\n",
       "      <td>1608752788.9781418</td>\n",
       "      <td>dopi18  3.142104</td>\n",
       "      <td>{'etag': 'W/\"datetime'2020-12-23T19%3A46%3A45....</td>\n",
       "    </tr>\n",
       "    <tr>\n",
       "      <th>5</th>\n",
       "      <td>Back__1</td>\n",
       "      <td>2</td>\n",
       "      <td>1608752801.7677984</td>\n",
       "      <td>dopi 3.1409588</td>\n",
       "      <td>{'etag': 'W/\"datetime'2020-12-23T19%3A46%3A47....</td>\n",
       "    </tr>\n",
       "    <tr>\n",
       "      <th>17</th>\n",
       "      <td>Front_0</td>\n",
       "      <td>7</td>\n",
       "      <td>1608752805.9294229</td>\n",
       "      <td>dopi19  3.1416776</td>\n",
       "      <td>{'etag': 'W/\"datetime'2020-12-23T19%3A47%3A02....</td>\n",
       "    </tr>\n",
       "    <tr>\n",
       "      <th>6</th>\n",
       "      <td>Back__1</td>\n",
       "      <td>3</td>\n",
       "      <td>1608752818.4912758</td>\n",
       "      <td>dopi 3.1411084</td>\n",
       "      <td>{'etag': 'W/\"datetime'2020-12-23T19%3A47%3A04....</td>\n",
       "    </tr>\n",
       "    <tr>\n",
       "      <th>18</th>\n",
       "      <td>Front_0</td>\n",
       "      <td>8</td>\n",
       "      <td>1608752822.8924305</td>\n",
       "      <td>dopi20  3.14067</td>\n",
       "      <td>{'etag': 'W/\"datetime'2020-12-23T19%3A47%3A20....</td>\n",
       "    </tr>\n",
       "    <tr>\n",
       "      <th>19</th>\n",
       "      <td>Front_0</td>\n",
       "      <td>9</td>\n",
       "      <td>1608752840.4072325</td>\n",
       "      <td>dopi21  3.1427112</td>\n",
       "      <td>{'etag': 'W/\"datetime'2020-12-23T19%3A47%3A37....</td>\n",
       "    </tr>\n",
       "    <tr>\n",
       "      <th>7</th>\n",
       "      <td>Back__1</td>\n",
       "      <td>4</td>\n",
       "      <td>1608752840.4845934</td>\n",
       "      <td>dopi 3.1415848</td>\n",
       "      <td>{'etag': 'W/\"datetime'2020-12-23T19%3A47%3A22....</td>\n",
       "    </tr>\n",
       "    <tr>\n",
       "      <th>8</th>\n",
       "      <td>Back__1</td>\n",
       "      <td>5</td>\n",
       "      <td>1608752853.0572288</td>\n",
       "      <td>dopi 3.1422432</td>\n",
       "      <td>{'etag': 'W/\"datetime'2020-12-23T19%3A47%3A39....</td>\n",
       "    </tr>\n",
       "    <tr>\n",
       "      <th>11</th>\n",
       "      <td>Front_0</td>\n",
       "      <td>10</td>\n",
       "      <td>1608752857.4195151</td>\n",
       "      <td>dopi22  3.1417268</td>\n",
       "      <td>{'etag': 'W/\"datetime'2020-12-23T19%3A47%3A52....</td>\n",
       "    </tr>\n",
       "    <tr>\n",
       "      <th>9</th>\n",
       "      <td>Back__1</td>\n",
       "      <td>6</td>\n",
       "      <td>1608752869.953129</td>\n",
       "      <td>dopi 3.1417576</td>\n",
       "      <td>{'etag': 'W/\"datetime'2020-12-23T19%3A47%3A54....</td>\n",
       "    </tr>\n",
       "  </tbody>\n",
       "</table>\n",
       "</div>"
      ],
      "text/plain": [
       "   PartitionKey RowKey                time               text  \\\n",
       "10      Front_0      1   1608752704.406051  dopi13  3.1416344   \n",
       "0       Back__0      1  1608752719.0520577     dopi 3.1417256   \n",
       "12      Front_0      2  1608752722.2293665  dopi14  3.1421384   \n",
       "1       Back__0      2   1608752735.008718     dopi 3.1418416   \n",
       "13      Front_0      3  1608752739.5322533   dopi15  3.141416   \n",
       "2       Back__0      3  1608752751.9321816     dopi 3.1415844   \n",
       "14      Front_0      4   1608752755.954178  dopi16  3.1411736   \n",
       "3       Back__0      4  1608752768.4061282     dopi 3.1417416   \n",
       "15      Front_0      5  1608752772.7165003    dopi17  3.14148   \n",
       "4       Back__1      1  1608752785.0623498     dopi 3.1410804   \n",
       "16      Front_0      6  1608752788.9781418   dopi18  3.142104   \n",
       "5       Back__1      2  1608752801.7677984     dopi 3.1409588   \n",
       "17      Front_0      7  1608752805.9294229  dopi19  3.1416776   \n",
       "6       Back__1      3  1608752818.4912758     dopi 3.1411084   \n",
       "18      Front_0      8  1608752822.8924305    dopi20  3.14067   \n",
       "19      Front_0      9  1608752840.4072325  dopi21  3.1427112   \n",
       "7       Back__1      4  1608752840.4845934     dopi 3.1415848   \n",
       "8       Back__1      5  1608752853.0572288     dopi 3.1422432   \n",
       "11      Front_0     10  1608752857.4195151  dopi22  3.1417268   \n",
       "9       Back__1      6   1608752869.953129     dopi 3.1417576   \n",
       "\n",
       "                                            _metadata  \n",
       "10  {'etag': 'W/\"datetime'2020-12-23T19%3A45%3A22....  \n",
       "0   {'etag': 'W/\"datetime'2020-12-23T19%3A45%3A24....  \n",
       "12  {'etag': 'W/\"datetime'2020-12-23T19%3A45%3A39....  \n",
       "1   {'etag': 'W/\"datetime'2020-12-23T19%3A45%3A41....  \n",
       "13  {'etag': 'W/\"datetime'2020-12-23T19%3A45%3A55....  \n",
       "2   {'etag': 'W/\"datetime'2020-12-23T19%3A45%3A57....  \n",
       "14  {'etag': 'W/\"datetime'2020-12-23T19%3A46%3A12....  \n",
       "3   {'etag': 'W/\"datetime'2020-12-23T19%3A46%3A14....  \n",
       "15  {'etag': 'W/\"datetime'2020-12-23T19%3A46%3A28....  \n",
       "4   {'etag': 'W/\"datetime'2020-12-23T19%3A46%3A31....  \n",
       "16  {'etag': 'W/\"datetime'2020-12-23T19%3A46%3A45....  \n",
       "5   {'etag': 'W/\"datetime'2020-12-23T19%3A46%3A47....  \n",
       "17  {'etag': 'W/\"datetime'2020-12-23T19%3A47%3A02....  \n",
       "6   {'etag': 'W/\"datetime'2020-12-23T19%3A47%3A04....  \n",
       "18  {'etag': 'W/\"datetime'2020-12-23T19%3A47%3A20....  \n",
       "19  {'etag': 'W/\"datetime'2020-12-23T19%3A47%3A37....  \n",
       "7   {'etag': 'W/\"datetime'2020-12-23T19%3A47%3A22....  \n",
       "8   {'etag': 'W/\"datetime'2020-12-23T19%3A47%3A39....  \n",
       "11  {'etag': 'W/\"datetime'2020-12-23T19%3A47%3A52....  \n",
       "9   {'etag': 'W/\"datetime'2020-12-23T19%3A47%3A54....  "
      ]
     },
     "execution_count": 49,
     "metadata": {},
     "output_type": "execute_result"
    }
   ],
   "source": [
    "sorted_by_time = timesfor1.sort_values(by=['time'])\n",
    "sorted_by_time"
   ]
  },
  {
   "cell_type": "code",
   "execution_count": 56,
   "metadata": {},
   "outputs": [],
   "source": [
    "pivals = []\n",
    "for x in sorted_by_time['text']:\n",
    "    b = x.find(' ')\n",
    "    pivals.append(float(x[b+1:]))"
   ]
  },
  {
   "cell_type": "code",
   "execution_count": 59,
   "metadata": {},
   "outputs": [],
   "source": [
    "import numpy as np"
   ]
  },
  {
   "cell_type": "code",
   "execution_count": 60,
   "metadata": {},
   "outputs": [
    {
     "data": {
      "text/plain": [
       "3.14161792"
      ]
     },
     "execution_count": 60,
     "metadata": {},
     "output_type": "execute_result"
    }
   ],
   "source": [
    "np.mean(pivals)"
   ]
  },
  {
   "cell_type": "code",
   "execution_count": 61,
   "metadata": {},
   "outputs": [],
   "source": [
    "# obviously not a very good way to compute pi"
   ]
  },
  {
   "cell_type": "code",
   "execution_count": null,
   "metadata": {},
   "outputs": [],
   "source": []
  }
 ],
 "metadata": {
  "kernelspec": {
   "display_name": "Python 3",
   "language": "python",
   "name": "python3"
  },
  "language_info": {
   "codemirror_mode": {
    "name": "ipython",
    "version": 3
   },
   "file_extension": ".py",
   "mimetype": "text/x-python",
   "name": "python",
   "nbconvert_exporter": "python",
   "pygments_lexer": "ipython3",
   "version": "3.8.5"
  }
 },
 "nbformat": 4,
 "nbformat_minor": 4
}
